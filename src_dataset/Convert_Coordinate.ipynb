{
 "metadata": {
  "language_info": {
   "codemirror_mode": {
    "name": "ipython",
    "version": 3
   },
   "file_extension": ".py",
   "mimetype": "text/x-python",
   "name": "python",
   "nbconvert_exporter": "python",
   "pygments_lexer": "ipython3",
   "version": "3.6.10-final"
  },
  "orig_nbformat": 2,
  "kernelspec": {
   "name": "python_defaultSpec_1598939021847",
   "display_name": "Python 3.6.10 64-bit ('py3.6': conda)"
  }
 },
 "nbformat": 4,
 "nbformat_minor": 2,
 "cells": [
  {
   "cell_type": "markdown",
   "metadata": {},
   "source": [
    "# Convert_Coordinate\n",
    "したいこと  \n",
    "→HinodeのCSVデータの座標系がHelioprojectiveでSHARPデータセットの座標系がHeliographic Stonyhurstなのでこの座標系を統一して変換可能な形にしたい  \n",
    "## 参考\n",
    "[Sunpy-coordinate](https://docs.sunpy.org/en/0.7/code_ref/coordinates.html)"
   ]
  },
  {
   "cell_type": "code",
   "execution_count": 17,
   "metadata": {},
   "outputs": [
    {
     "output_type": "execute_result",
     "data": {
      "text/plain": "<Helioprojective Frame (obstime=2011-06-07T06:33:02.770, rsun=696000000.0 m, observer=<HeliographicStonyhurst Coordinate (obstime=2011-06-07T06:33:02.770): (lon, lat, radius) in (deg, deg, m)\n    (-0.00406308, 0.04787238, 1.51846026e+11)>)>"
     },
     "metadata": {},
     "execution_count": 17
    }
   ],
   "source": [
    "# Example\n",
    "from astropy.wcs.utils import wcs_to_celestial_frame\n",
    "import sunpy.coordinates\n",
    "import sunpy.map\n",
    "from sunpy.data.sample import AIA_171_IMAGE\n",
    "from astropy.coordinates import SkyCoord\n",
    "import astropy.units as u\n",
    "amap = sunpy.map.Map(AIA_171_IMAGE)\n",
    "wcs_to_celestial_frame(amap.wcs)"
   ]
  },
  {
   "cell_type": "code",
   "execution_count": 16,
   "metadata": {},
   "outputs": [
    {
     "output_type": "execute_result",
     "data": {
      "text/plain": "MAPFILEPATH    hinode/darts/spmap/level0/2010/01/01/sprsf2010...\nDATE_OBS                                             3.15659e+08\nDATE_END                                             3.15669e+08\nXCEN                                                     400.506\nYCEN                                                    -415.824\nFOVX                                                     301.399\nFOVY                                                     162.304\nName: 0, dtype: object"
     },
     "metadata": {},
     "execution_count": 16
    }
   ],
   "source": [
    "path = \"../sot_sp/SOTSP_2010.csv\"\n",
    "sot_sp_df = pd.read_csv(path)\n",
    "# c = Skycoord()\n",
    "s=pd.Series(sot_sp_df.loc[0])\n",
    "c = SkyCoord()"
   ]
  }
 ]
}
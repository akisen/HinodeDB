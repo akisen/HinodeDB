{
 "metadata": {
  "language_info": {
   "codemirror_mode": {
    "name": "ipython",
    "version": 3
   },
   "file_extension": ".py",
   "mimetype": "text/x-python",
   "name": "python",
   "nbconvert_exporter": "python",
   "pygments_lexer": "ipython3",
   "version": "3.8.5-final"
  },
  "orig_nbformat": 2,
  "kernelspec": {
   "name": "python_defaultSpec_1601705052444",
   "display_name": "Python 3.8.5 64-bit ('py3.8': conda)",
   "metadata": {
    "interpreter": {
     "hash": "c1adb5375f229d1eea2415024ee773cb2493614d24a9913a0f46472292080f4e"
    }
   }
  }
 },
 "nbformat": 4,
 "nbformat_minor": 2,
 "cells": [
  {
   "cell_type": "markdown",
   "metadata": {},
   "source": [
    "# Convert_Coordinate\n",
    "したいこと  \n",
    "→HinodeのCSVデータの座標系がHelioprojectiveでSHARPデータセットの座標系がHeliographic Stonyhurstなのでこの座標系を統一して変換可能な形にしたい  \n",
    "## 参考\n",
    "[Sunpy-coordinate](https://docs.sunpy.org/en/0.7/code_ref/coordinates.html)"
   ]
  },
  {
   "cell_type": "code",
   "execution_count": 2,
   "metadata": {},
   "outputs": [
    {
     "output_type": "execute_result",
     "data": {
      "text/plain": "<Helioprojective Frame (obstime=2011-06-07T06:33:02.770, rsun=696000000.0 m, observer=<HeliographicStonyhurst Coordinate (obstime=2011-06-07T06:33:02.770): (lon, lat, radius) in (deg, deg, m)\n    (-0.00406308, 0.04787238, 1.51846026e+11)>)>"
     },
     "metadata": {},
     "execution_count": 2
    }
   ],
   "source": [
    "# Example\n",
    "from astropy.wcs.utils import wcs_to_celestial_frame\n",
    "import sunpy.coordinates\n",
    "import sunpy.map\n",
    "from sunpy.data.sample import AIA_171_IMAGE\n",
    "from astropy.coordinates import SkyCoord\n",
    "import astropy.units as u\n",
    "import datetime\n",
    "import sys\n",
    "amap = sunpy.map.Map(AIA_171_IMAGE)\n",
    "wcs_to_celestial_frame(amap.wcs)"
   ]
  },
  {
   "cell_type": "markdown",
   "metadata": {},
   "source": [
    "## 座標系変換が一番の肝なのでそこを試してみる\n",
    "Hinode→Helioprojective  \n",
    "SWAN→Heliographic Stonyhurst\n"
   ]
  },
  {
   "cell_type": "code",
   "execution_count": 3,
   "metadata": {},
   "outputs": [
    {
     "output_type": "execute_result",
     "data": {
      "text/plain": "<SkyCoord (HeliographicStonyhurst: obstime=2010-01-01T00:00:00.000): (lon, lat, radius) in (deg, deg, AU)\n    [(17.83207312, -33.35237352, 0.00465047),\n     (37.45921616, -22.3977444 , 0.00465047)]>"
     },
     "metadata": {},
     "execution_count": 3
    }
   ],
   "source": [
    "import pandas as pd\n",
    "from sunpy.coordinates import frames\n",
    "path = \"../sot_sp/SOTSP_2010.csv\"\n",
    "sot_sp_df = pd.read_csv(path)\n",
    "# c = Skycoord()\n",
    "s=pd.Series(sot_sp_df.loc[0])\n",
    "ll = [s[\"XCEN\"]-s[\"FOVX\"]//2,s[\"XCEN\"]+s[\"FOVX\"]//2]\n",
    "ur =[s[\"YCEN\"]-s[\"FOVY\"]//2,s[\"YCEN\"]+s[\"FOVY\"]//2]\n",
    "c=SkyCoord(ll*u.arcsec,ur*u.arcsec,frame = frames.Helioprojective,obstime= \"2010-01-01\",observer=\"earth\")\n",
    "c.transform_to(frames.HeliographicStonyhurst)"
   ]
  },
  {
   "cell_type": "markdown",
   "metadata": {},
   "source": [
    "AstropyのSkyCoordを経由して変換できることが確認できた。"
   ]
  },
  {
   "cell_type": "markdown",
   "metadata": {},
   "source": [
    "## 比較用のそれぞれのデータセットを初期化\n"
   ]
  },
  {
   "cell_type": "code",
   "execution_count": 4,
   "metadata": {
    "tags": []
   },
   "outputs": [
    {
     "output_type": "execute_result",
     "data": {
      "text/plain": "                       SOL_standard fl_goescls  boundbox_c1ll  boundbox_c1ur  \\\n0    SOL2010-04-24T22:56:00L316C071       B1.1          -17.0          -15.0   \n1    SOL2010-04-24T22:56:00L316C071       B1.1          -17.0          -15.0   \n2    SOL2010-04-30T00:17:00L314C072       B1.8           48.0           50.0   \n3    SOL2010-04-30T00:17:00L314C072       B1.8           48.0           50.0   \n4    SOL2010-04-30T19:28:00L166C066       C2.2          -88.0          -86.0   \n..                              ...        ...            ...            ...   \n818  SOL2010-12-17T07:17:00L072C071       B4.9          -17.0          -15.0   \n819  SOL2010-12-17T09:02:00L077C071       B2.1          -11.0           -9.0   \n820  SOL2010-12-17T11:31:00L008C086       B1.3          -79.0          -77.0   \n821  SOL2010-12-17T21:53:00L076C072       B2.4           -5.0           -3.0   \n822  SOL2010-12-29T21:04:00L205C117       B4.3          -80.0          -78.0   \n\n     boundbox_c2ll  boundbox_c2ur                      hpc_coord  \\\n0             18.0           20.0      POINT(-249.6648 383.2632)   \n1             18.0           20.0      POINT(-249.6648 383.2632)   \n2             17.0           19.0        POINT(685.806 339.0138)   \n3             17.0           19.0        POINT(685.806 339.0138)   \n4             23.0           25.0       POINT(-869.142 389.7972)   \n..             ...            ...                            ...   \n818           18.0           20.0      POINT(-255.0588 336.7278)   \n819           18.0           20.0      POINT(-160.7022 337.3566)   \n820            3.0            5.0         POINT(-951.81 72.2418)   \n821           17.0           19.0   POINT(-64.942656 322.648584)   \n822          -28.0          -26.0  POINT(-853.69194 -434.734776)   \n\n         event_starttime        event_endtime search_observatory  \n0    2010-04-24T22:56:00  2010-04-24T23:07:00                SDO  \n1    2010-04-24T22:56:00  2010-04-24T23:07:00                SDO  \n2    2010-04-30T00:17:00  2010-04-30T00:21:00                SDO  \n3    2010-04-30T00:17:00  2010-04-30T00:27:00                SDO  \n4    2010-04-30T19:28:00  2010-04-30T19:38:00                SDO  \n..                   ...                  ...                ...  \n818  2010-12-17T07:17:00  2010-12-17T07:44:00                SDO  \n819  2010-12-17T09:02:00  2010-12-17T09:06:00                SDO  \n820  2010-12-17T11:31:00  2010-12-17T11:37:00                SDO  \n821  2010-12-17T21:53:00  2010-12-17T23:21:00                SDO  \n822  2010-12-29T21:04:00  2010-12-29T21:15:00                SDO  \n\n[823 rows x 10 columns]",
      "text/html": "<div>\n<style scoped>\n    .dataframe tbody tr th:only-of-type {\n        vertical-align: middle;\n    }\n\n    .dataframe tbody tr th {\n        vertical-align: top;\n    }\n\n    .dataframe thead th {\n        text-align: right;\n    }\n</style>\n<table border=\"1\" class=\"dataframe\">\n  <thead>\n    <tr style=\"text-align: right;\">\n      <th></th>\n      <th>SOL_standard</th>\n      <th>fl_goescls</th>\n      <th>boundbox_c1ll</th>\n      <th>boundbox_c1ur</th>\n      <th>boundbox_c2ll</th>\n      <th>boundbox_c2ur</th>\n      <th>hpc_coord</th>\n      <th>event_starttime</th>\n      <th>event_endtime</th>\n      <th>search_observatory</th>\n    </tr>\n  </thead>\n  <tbody>\n    <tr>\n      <th>0</th>\n      <td>SOL2010-04-24T22:56:00L316C071</td>\n      <td>B1.1</td>\n      <td>-17.0</td>\n      <td>-15.0</td>\n      <td>18.0</td>\n      <td>20.0</td>\n      <td>POINT(-249.6648 383.2632)</td>\n      <td>2010-04-24T22:56:00</td>\n      <td>2010-04-24T23:07:00</td>\n      <td>SDO</td>\n    </tr>\n    <tr>\n      <th>1</th>\n      <td>SOL2010-04-24T22:56:00L316C071</td>\n      <td>B1.1</td>\n      <td>-17.0</td>\n      <td>-15.0</td>\n      <td>18.0</td>\n      <td>20.0</td>\n      <td>POINT(-249.6648 383.2632)</td>\n      <td>2010-04-24T22:56:00</td>\n      <td>2010-04-24T23:07:00</td>\n      <td>SDO</td>\n    </tr>\n    <tr>\n      <th>2</th>\n      <td>SOL2010-04-30T00:17:00L314C072</td>\n      <td>B1.8</td>\n      <td>48.0</td>\n      <td>50.0</td>\n      <td>17.0</td>\n      <td>19.0</td>\n      <td>POINT(685.806 339.0138)</td>\n      <td>2010-04-30T00:17:00</td>\n      <td>2010-04-30T00:21:00</td>\n      <td>SDO</td>\n    </tr>\n    <tr>\n      <th>3</th>\n      <td>SOL2010-04-30T00:17:00L314C072</td>\n      <td>B1.8</td>\n      <td>48.0</td>\n      <td>50.0</td>\n      <td>17.0</td>\n      <td>19.0</td>\n      <td>POINT(685.806 339.0138)</td>\n      <td>2010-04-30T00:17:00</td>\n      <td>2010-04-30T00:27:00</td>\n      <td>SDO</td>\n    </tr>\n    <tr>\n      <th>4</th>\n      <td>SOL2010-04-30T19:28:00L166C066</td>\n      <td>C2.2</td>\n      <td>-88.0</td>\n      <td>-86.0</td>\n      <td>23.0</td>\n      <td>25.0</td>\n      <td>POINT(-869.142 389.7972)</td>\n      <td>2010-04-30T19:28:00</td>\n      <td>2010-04-30T19:38:00</td>\n      <td>SDO</td>\n    </tr>\n    <tr>\n      <th>...</th>\n      <td>...</td>\n      <td>...</td>\n      <td>...</td>\n      <td>...</td>\n      <td>...</td>\n      <td>...</td>\n      <td>...</td>\n      <td>...</td>\n      <td>...</td>\n      <td>...</td>\n    </tr>\n    <tr>\n      <th>818</th>\n      <td>SOL2010-12-17T07:17:00L072C071</td>\n      <td>B4.9</td>\n      <td>-17.0</td>\n      <td>-15.0</td>\n      <td>18.0</td>\n      <td>20.0</td>\n      <td>POINT(-255.0588 336.7278)</td>\n      <td>2010-12-17T07:17:00</td>\n      <td>2010-12-17T07:44:00</td>\n      <td>SDO</td>\n    </tr>\n    <tr>\n      <th>819</th>\n      <td>SOL2010-12-17T09:02:00L077C071</td>\n      <td>B2.1</td>\n      <td>-11.0</td>\n      <td>-9.0</td>\n      <td>18.0</td>\n      <td>20.0</td>\n      <td>POINT(-160.7022 337.3566)</td>\n      <td>2010-12-17T09:02:00</td>\n      <td>2010-12-17T09:06:00</td>\n      <td>SDO</td>\n    </tr>\n    <tr>\n      <th>820</th>\n      <td>SOL2010-12-17T11:31:00L008C086</td>\n      <td>B1.3</td>\n      <td>-79.0</td>\n      <td>-77.0</td>\n      <td>3.0</td>\n      <td>5.0</td>\n      <td>POINT(-951.81 72.2418)</td>\n      <td>2010-12-17T11:31:00</td>\n      <td>2010-12-17T11:37:00</td>\n      <td>SDO</td>\n    </tr>\n    <tr>\n      <th>821</th>\n      <td>SOL2010-12-17T21:53:00L076C072</td>\n      <td>B2.4</td>\n      <td>-5.0</td>\n      <td>-3.0</td>\n      <td>17.0</td>\n      <td>19.0</td>\n      <td>POINT(-64.942656 322.648584)</td>\n      <td>2010-12-17T21:53:00</td>\n      <td>2010-12-17T23:21:00</td>\n      <td>SDO</td>\n    </tr>\n    <tr>\n      <th>822</th>\n      <td>SOL2010-12-29T21:04:00L205C117</td>\n      <td>B4.3</td>\n      <td>-80.0</td>\n      <td>-78.0</td>\n      <td>-28.0</td>\n      <td>-26.0</td>\n      <td>POINT(-853.69194 -434.734776)</td>\n      <td>2010-12-29T21:04:00</td>\n      <td>2010-12-29T21:15:00</td>\n      <td>SDO</td>\n    </tr>\n  </tbody>\n</table>\n<p>823 rows × 10 columns</p>\n</div>"
     },
     "metadata": {},
     "execution_count": 4
    }
   ],
   "source": [
    "import glob\n",
    "YEARS = [2010+i for i in range(10)]\n",
    "SOT_SP_PATH = \"../sot_sp/SOTSP_*.csv\"\n",
    "SOT_FG_PATH = \"../sot_fg/SOTFG_*.csv\"\n",
    "EIS_PATH = \"../eis/EIS_*.csv\"\n",
    "XRT_PATH = \"../xrt/XRT_*.csv\"\n",
    "FLARE_PATH = \"../flare/Flare2010.csv\"\n",
    "def path_to_dic(path_str):\n",
    "    paths = sorted(glob.glob(path_str))\n",
    "    paths_dic = {path.split(\"/\")[-1][-8:-4]:path for path in paths}\n",
    "    return paths_dic\n",
    "def read_flare_csv(path_str):\n",
    "    flare_df = pd.read_csv(FLARE_PATH,index_col=0)\n",
    "    flare_df = flare_df.query('search_observatory==\"SDO\"')\n",
    "    flare_df = flare_df.dropna(subset=[\"fl_goescls\"])\n",
    "    flare_df = flare_df.reset_index(drop=True)\n",
    "    return flare_df\n",
    "sot_sp_paths_dic = path_to_dic(SOT_SP_PATH)#各年度でPathを格納した辞書を作成\n",
    "sot_fg_paths_dic = path_to_dic(SOT_FG_PATH)\n",
    "eis_paths_dic = path_to_dic(EIS_PATH)\n",
    "xrt_path_dic =path_to_dic(XRT_PATH)\n",
    "flare_df = read_flare_csv(FLARE_PATH)\n",
    "\n",
    "flare_df\n"
   ]
  },
  {
   "cell_type": "code",
   "execution_count": 5,
   "metadata": {
    "tags": []
   },
   "outputs": [
    {
     "output_type": "execute_result",
     "data": {
      "text/plain": "                                                 FILEPATH      DATE_OBS  \\\n0       hinode/sot/level0/2010/01/01/FGMG/H0000/FGMG4_...  3.156193e+08   \n1       hinode/sot/level0/2010/01/01/FG/H0000/FG201001...  3.156195e+08   \n2       hinode/sot/level0/2010/01/01/FGMG/H0000/FGMG4_...  3.156195e+08   \n3       hinode/sot/level0/2010/01/01/FG/H0000/FG201001...  3.156196e+08   \n4       hinode/sot/level0/2010/01/01/FGMG/H0000/FGMG4_...  3.156196e+08   \n...                                                   ...           ...   \n497719  hinode/sot/level0/2010/12/31/FGMG/H2300/FGMG4_...  3.471548e+08   \n497720  hinode/sot/level0/2010/12/31/FG/H2300/FG201012...  3.471550e+08   \n497721  hinode/sot/level0/2010/12/31/FGMG/H2300/FGMG4_...  3.471550e+08   \n497722  hinode/sot/level0/2010/12/31/FG/H2300/FG201012...  3.471551e+08   \n497723  hinode/sot/level0/2010/12/31/FGMG/H2300/FGMG4_...  3.471552e+08   \n\n            DATE_END     XCEN     YCEN     FOVX     FOVY CFlare MFlare XFlare  \n0       3.156193e+08  308.990 -414.820  225.280  112.640     []     []     []  \n1       3.156195e+08  309.454 -414.742  188.283  111.575     []     []     []  \n2       3.156195e+08  309.454 -414.897  225.280  112.640     []     []     []  \n3       3.156196e+08  309.763 -414.974  188.283  111.575     []     []     []  \n4       3.156197e+08  309.840 -414.742  225.280  112.640     []     []     []  \n...              ...      ...      ...      ...      ...    ...    ...    ...  \n497719  3.471548e+08 -660.544 -401.379  225.280  112.640     []     []     []  \n497720  3.471550e+08 -660.390 -401.224  188.283  111.575     []     []     []  \n497721  3.471550e+08 -660.313 -401.301  225.280  112.640     []     []     []  \n497722  3.471552e+08 -660.158 -401.224  188.283  111.575     []     []     []  \n497723  3.471552e+08 -660.081 -401.379  225.280  112.640     []     []     []  \n\n[497724 rows x 10 columns]",
      "text/html": "<div>\n<style scoped>\n    .dataframe tbody tr th:only-of-type {\n        vertical-align: middle;\n    }\n\n    .dataframe tbody tr th {\n        vertical-align: top;\n    }\n\n    .dataframe thead th {\n        text-align: right;\n    }\n</style>\n<table border=\"1\" class=\"dataframe\">\n  <thead>\n    <tr style=\"text-align: right;\">\n      <th></th>\n      <th>FILEPATH</th>\n      <th>DATE_OBS</th>\n      <th>DATE_END</th>\n      <th>XCEN</th>\n      <th>YCEN</th>\n      <th>FOVX</th>\n      <th>FOVY</th>\n      <th>CFlare</th>\n      <th>MFlare</th>\n      <th>XFlare</th>\n    </tr>\n  </thead>\n  <tbody>\n    <tr>\n      <th>0</th>\n      <td>hinode/sot/level0/2010/01/01/FGMG/H0000/FGMG4_...</td>\n      <td>3.156193e+08</td>\n      <td>3.156193e+08</td>\n      <td>308.990</td>\n      <td>-414.820</td>\n      <td>225.280</td>\n      <td>112.640</td>\n      <td>[]</td>\n      <td>[]</td>\n      <td>[]</td>\n    </tr>\n    <tr>\n      <th>1</th>\n      <td>hinode/sot/level0/2010/01/01/FG/H0000/FG201001...</td>\n      <td>3.156195e+08</td>\n      <td>3.156195e+08</td>\n      <td>309.454</td>\n      <td>-414.742</td>\n      <td>188.283</td>\n      <td>111.575</td>\n      <td>[]</td>\n      <td>[]</td>\n      <td>[]</td>\n    </tr>\n    <tr>\n      <th>2</th>\n      <td>hinode/sot/level0/2010/01/01/FGMG/H0000/FGMG4_...</td>\n      <td>3.156195e+08</td>\n      <td>3.156195e+08</td>\n      <td>309.454</td>\n      <td>-414.897</td>\n      <td>225.280</td>\n      <td>112.640</td>\n      <td>[]</td>\n      <td>[]</td>\n      <td>[]</td>\n    </tr>\n    <tr>\n      <th>3</th>\n      <td>hinode/sot/level0/2010/01/01/FG/H0000/FG201001...</td>\n      <td>3.156196e+08</td>\n      <td>3.156196e+08</td>\n      <td>309.763</td>\n      <td>-414.974</td>\n      <td>188.283</td>\n      <td>111.575</td>\n      <td>[]</td>\n      <td>[]</td>\n      <td>[]</td>\n    </tr>\n    <tr>\n      <th>4</th>\n      <td>hinode/sot/level0/2010/01/01/FGMG/H0000/FGMG4_...</td>\n      <td>3.156196e+08</td>\n      <td>3.156197e+08</td>\n      <td>309.840</td>\n      <td>-414.742</td>\n      <td>225.280</td>\n      <td>112.640</td>\n      <td>[]</td>\n      <td>[]</td>\n      <td>[]</td>\n    </tr>\n    <tr>\n      <th>...</th>\n      <td>...</td>\n      <td>...</td>\n      <td>...</td>\n      <td>...</td>\n      <td>...</td>\n      <td>...</td>\n      <td>...</td>\n      <td>...</td>\n      <td>...</td>\n      <td>...</td>\n    </tr>\n    <tr>\n      <th>497719</th>\n      <td>hinode/sot/level0/2010/12/31/FGMG/H2300/FGMG4_...</td>\n      <td>3.471548e+08</td>\n      <td>3.471548e+08</td>\n      <td>-660.544</td>\n      <td>-401.379</td>\n      <td>225.280</td>\n      <td>112.640</td>\n      <td>[]</td>\n      <td>[]</td>\n      <td>[]</td>\n    </tr>\n    <tr>\n      <th>497720</th>\n      <td>hinode/sot/level0/2010/12/31/FG/H2300/FG201012...</td>\n      <td>3.471550e+08</td>\n      <td>3.471550e+08</td>\n      <td>-660.390</td>\n      <td>-401.224</td>\n      <td>188.283</td>\n      <td>111.575</td>\n      <td>[]</td>\n      <td>[]</td>\n      <td>[]</td>\n    </tr>\n    <tr>\n      <th>497721</th>\n      <td>hinode/sot/level0/2010/12/31/FGMG/H2300/FGMG4_...</td>\n      <td>3.471550e+08</td>\n      <td>3.471550e+08</td>\n      <td>-660.313</td>\n      <td>-401.301</td>\n      <td>225.280</td>\n      <td>112.640</td>\n      <td>[]</td>\n      <td>[]</td>\n      <td>[]</td>\n    </tr>\n    <tr>\n      <th>497722</th>\n      <td>hinode/sot/level0/2010/12/31/FG/H2300/FG201012...</td>\n      <td>3.471551e+08</td>\n      <td>3.471552e+08</td>\n      <td>-660.158</td>\n      <td>-401.224</td>\n      <td>188.283</td>\n      <td>111.575</td>\n      <td>[]</td>\n      <td>[]</td>\n      <td>[]</td>\n    </tr>\n    <tr>\n      <th>497723</th>\n      <td>hinode/sot/level0/2010/12/31/FGMG/H2300/FGMG4_...</td>\n      <td>3.471552e+08</td>\n      <td>3.471552e+08</td>\n      <td>-660.081</td>\n      <td>-401.379</td>\n      <td>225.280</td>\n      <td>112.640</td>\n      <td>[]</td>\n      <td>[]</td>\n      <td>[]</td>\n    </tr>\n  </tbody>\n</table>\n<p>497724 rows × 10 columns</p>\n</div>"
     },
     "metadata": {},
     "execution_count": 5
    }
   ],
   "source": [
    "# Flareデータを格納する列を追加\n",
    "sot_fg_2010 = pd.read_csv(sot_fg_paths_dic[\"2010\"])\n",
    "def add_flare_series(df):\n",
    "    df[\"CFlare\"] = [ [] for i in range(len(df))]\n",
    "    df[\"MFlare\"] = [ [] for i in range(len(df))]\n",
    "    df[\"XFlare\"] = [ [] for i in range(len(df))]\n",
    "    return df\n",
    "sot_fg_2010 = add_flare_series(sot_fg_2010)\n",
    "sot_fg_2010"
   ]
  },
  {
   "cell_type": "code",
   "execution_count": 6,
   "metadata": {
    "tags": []
   },
   "outputs": [
    {
     "output_type": "execute_result",
     "data": {
      "text/plain": "                                                 FILEPATH  \\\n0       hinode/sot/level0/2010/01/01/FGMG/H0000/FGMG4_...   \n1       hinode/sot/level0/2010/01/01/FG/H0000/FG201001...   \n2       hinode/sot/level0/2010/01/01/FGMG/H0000/FGMG4_...   \n3       hinode/sot/level0/2010/01/01/FG/H0000/FG201001...   \n4       hinode/sot/level0/2010/01/01/FGMG/H0000/FGMG4_...   \n...                                                   ...   \n497719  hinode/sot/level0/2010/12/31/FGMG/H2300/FGMG4_...   \n497720  hinode/sot/level0/2010/12/31/FG/H2300/FG201012...   \n497721  hinode/sot/level0/2010/12/31/FGMG/H2300/FGMG4_...   \n497722  hinode/sot/level0/2010/12/31/FG/H2300/FG201012...   \n497723  hinode/sot/level0/2010/12/31/FGMG/H2300/FGMG4_...   \n\n                      DATE_OBS                DATE_END     XCEN     YCEN  \\\n0      2010-01-01 00:01:12.804 2010-01-01 00:01:36.956  308.990 -414.820   \n1      2010-01-01 00:04:10.024 2010-01-01 00:04:10.331  309.454 -414.742   \n2      2010-01-01 00:04:13.311 2010-01-01 00:04:37.459  309.454 -414.897   \n3      2010-01-01 00:07:08.929 2010-01-01 00:07:09.236  309.763 -414.974   \n4      2010-01-01 00:07:12.223 2010-01-01 00:07:36.374  309.840 -414.742   \n...                        ...                     ...      ...      ...   \n497719 2010-12-31 23:53:12.023 2010-12-31 23:53:36.174 -660.544 -401.379   \n497720 2010-12-31 23:56:09.253 2010-12-31 23:56:09.509 -660.390 -401.224   \n497721 2010-12-31 23:56:12.544 2010-12-31 23:56:36.696 -660.313 -401.301   \n497722 2010-12-31 23:59:09.757 2010-12-31 23:59:10.013 -660.158 -401.224   \n497723 2010-12-31 23:59:13.059 2010-12-31 23:59:37.212 -660.081 -401.379   \n\n           FOVX     FOVY CFlare MFlare XFlare  \n0       225.280  112.640     []     []     []  \n1       188.283  111.575     []     []     []  \n2       225.280  112.640     []     []     []  \n3       188.283  111.575     []     []     []  \n4       225.280  112.640     []     []     []  \n...         ...      ...    ...    ...    ...  \n497719  225.280  112.640     []     []     []  \n497720  188.283  111.575     []     []     []  \n497721  225.280  112.640     []     []     []  \n497722  188.283  111.575     []     []     []  \n497723  225.280  112.640     []     []     []  \n\n[497724 rows x 10 columns]",
      "text/html": "<div>\n<style scoped>\n    .dataframe tbody tr th:only-of-type {\n        vertical-align: middle;\n    }\n\n    .dataframe tbody tr th {\n        vertical-align: top;\n    }\n\n    .dataframe thead th {\n        text-align: right;\n    }\n</style>\n<table border=\"1\" class=\"dataframe\">\n  <thead>\n    <tr style=\"text-align: right;\">\n      <th></th>\n      <th>FILEPATH</th>\n      <th>DATE_OBS</th>\n      <th>DATE_END</th>\n      <th>XCEN</th>\n      <th>YCEN</th>\n      <th>FOVX</th>\n      <th>FOVY</th>\n      <th>CFlare</th>\n      <th>MFlare</th>\n      <th>XFlare</th>\n    </tr>\n  </thead>\n  <tbody>\n    <tr>\n      <th>0</th>\n      <td>hinode/sot/level0/2010/01/01/FGMG/H0000/FGMG4_...</td>\n      <td>2010-01-01 00:01:12.804</td>\n      <td>2010-01-01 00:01:36.956</td>\n      <td>308.990</td>\n      <td>-414.820</td>\n      <td>225.280</td>\n      <td>112.640</td>\n      <td>[]</td>\n      <td>[]</td>\n      <td>[]</td>\n    </tr>\n    <tr>\n      <th>1</th>\n      <td>hinode/sot/level0/2010/01/01/FG/H0000/FG201001...</td>\n      <td>2010-01-01 00:04:10.024</td>\n      <td>2010-01-01 00:04:10.331</td>\n      <td>309.454</td>\n      <td>-414.742</td>\n      <td>188.283</td>\n      <td>111.575</td>\n      <td>[]</td>\n      <td>[]</td>\n      <td>[]</td>\n    </tr>\n    <tr>\n      <th>2</th>\n      <td>hinode/sot/level0/2010/01/01/FGMG/H0000/FGMG4_...</td>\n      <td>2010-01-01 00:04:13.311</td>\n      <td>2010-01-01 00:04:37.459</td>\n      <td>309.454</td>\n      <td>-414.897</td>\n      <td>225.280</td>\n      <td>112.640</td>\n      <td>[]</td>\n      <td>[]</td>\n      <td>[]</td>\n    </tr>\n    <tr>\n      <th>3</th>\n      <td>hinode/sot/level0/2010/01/01/FG/H0000/FG201001...</td>\n      <td>2010-01-01 00:07:08.929</td>\n      <td>2010-01-01 00:07:09.236</td>\n      <td>309.763</td>\n      <td>-414.974</td>\n      <td>188.283</td>\n      <td>111.575</td>\n      <td>[]</td>\n      <td>[]</td>\n      <td>[]</td>\n    </tr>\n    <tr>\n      <th>4</th>\n      <td>hinode/sot/level0/2010/01/01/FGMG/H0000/FGMG4_...</td>\n      <td>2010-01-01 00:07:12.223</td>\n      <td>2010-01-01 00:07:36.374</td>\n      <td>309.840</td>\n      <td>-414.742</td>\n      <td>225.280</td>\n      <td>112.640</td>\n      <td>[]</td>\n      <td>[]</td>\n      <td>[]</td>\n    </tr>\n    <tr>\n      <th>...</th>\n      <td>...</td>\n      <td>...</td>\n      <td>...</td>\n      <td>...</td>\n      <td>...</td>\n      <td>...</td>\n      <td>...</td>\n      <td>...</td>\n      <td>...</td>\n      <td>...</td>\n    </tr>\n    <tr>\n      <th>497719</th>\n      <td>hinode/sot/level0/2010/12/31/FGMG/H2300/FGMG4_...</td>\n      <td>2010-12-31 23:53:12.023</td>\n      <td>2010-12-31 23:53:36.174</td>\n      <td>-660.544</td>\n      <td>-401.379</td>\n      <td>225.280</td>\n      <td>112.640</td>\n      <td>[]</td>\n      <td>[]</td>\n      <td>[]</td>\n    </tr>\n    <tr>\n      <th>497720</th>\n      <td>hinode/sot/level0/2010/12/31/FG/H2300/FG201012...</td>\n      <td>2010-12-31 23:56:09.253</td>\n      <td>2010-12-31 23:56:09.509</td>\n      <td>-660.390</td>\n      <td>-401.224</td>\n      <td>188.283</td>\n      <td>111.575</td>\n      <td>[]</td>\n      <td>[]</td>\n      <td>[]</td>\n    </tr>\n    <tr>\n      <th>497721</th>\n      <td>hinode/sot/level0/2010/12/31/FGMG/H2300/FGMG4_...</td>\n      <td>2010-12-31 23:56:12.544</td>\n      <td>2010-12-31 23:56:36.696</td>\n      <td>-660.313</td>\n      <td>-401.301</td>\n      <td>225.280</td>\n      <td>112.640</td>\n      <td>[]</td>\n      <td>[]</td>\n      <td>[]</td>\n    </tr>\n    <tr>\n      <th>497722</th>\n      <td>hinode/sot/level0/2010/12/31/FG/H2300/FG201012...</td>\n      <td>2010-12-31 23:59:09.757</td>\n      <td>2010-12-31 23:59:10.013</td>\n      <td>-660.158</td>\n      <td>-401.224</td>\n      <td>188.283</td>\n      <td>111.575</td>\n      <td>[]</td>\n      <td>[]</td>\n      <td>[]</td>\n    </tr>\n    <tr>\n      <th>497723</th>\n      <td>hinode/sot/level0/2010/12/31/FGMG/H2300/FGMG4_...</td>\n      <td>2010-12-31 23:59:13.059</td>\n      <td>2010-12-31 23:59:37.212</td>\n      <td>-660.081</td>\n      <td>-401.379</td>\n      <td>225.280</td>\n      <td>112.640</td>\n      <td>[]</td>\n      <td>[]</td>\n      <td>[]</td>\n    </tr>\n  </tbody>\n</table>\n<p>497724 rows × 10 columns</p>\n</div>"
     },
     "metadata": {},
     "execution_count": 6
    }
   ],
   "source": [
    "import utils\n",
    "def convert_time(previous_df):\n",
    "    converted_df = previous_df\n",
    "    time_series = previous_df[\"DATE_OBS\"]\n",
    "    time_series = time_series +946652400 #UNIX時間(1970/1/1からの経過時間に合わせるために加算)\n",
    "    time_series = time_series.map(lambda time: datetime.datetime.fromtimestamp(time))\n",
    "    converted_df[\"DATE_OBS\"] = time_series\n",
    "    time_series = previous_df[\"DATE_END\"]\n",
    "    time_series = time_series +946652400 #UNIX時間(1970/1/1からの経過時間に合わせるために加算)\n",
    "    time_series = time_series.map(lambda time: datetime.datetime.fromtimestamp(time))\n",
    "    converted_df[\"DATE_END\"] = time_series\n",
    "    return converted_df\n",
    "sot_fg_2010 =convert_time(sot_fg_2010)\n",
    "\n",
    "sot_fg_2010"
   ]
  },
  {
   "cell_type": "markdown",
   "metadata": {},
   "source": [
    "## 重複領域の比較(両方をDegreeに変換して比較する)"
   ]
  },
  {
   "cell_type": "code",
   "execution_count": 13,
   "metadata": {
    "tags": []
   },
   "outputs": [
    {
     "output_type": "execute_result",
     "data": {
      "text/plain": "<shapely.geometry.polygon.Polygon at 0x7fa188145b20>",
      "image/svg+xml": "<svg xmlns=\"http://www.w3.org/2000/svg\" xmlns:xlink=\"http://www.w3.org/1999/xlink\" width=\"100.0\" height=\"100.0\" viewBox=\"-17.08 17.92 2.1599999999999984 2.1599999999999966\" preserveAspectRatio=\"xMinYMin meet\"><g transform=\"matrix(1,0,0,-1,0,38.0)\"><path fill-rule=\"evenodd\" fill=\"#66cc99\" stroke=\"#555555\" stroke-width=\"0.04319999999999997\" opacity=\"0.6\" d=\"M -17.0,18.0 L -17.0,20.0 L -15.0,20.0 L -15.0,18.0 L -17.0,18.0 z\" /></g></svg>"
     },
     "metadata": {},
     "execution_count": 13
    }
   ],
   "source": [
    "from shapely.geometry import Polygon\n",
    "def line_to_polygon_flare(line):\n",
    "    ll_x = line[\"boundbox_c1ll\"]\n",
    "    ll_y = line[\"boundbox_c2ll\"]\n",
    "    ur_x = line[\"boundbox_c1ur\"]\n",
    "    ur_y = line[\"boundbox_c2ur\"]\n",
    "    polygon = Polygon([(ll_x,ll_y),(ll_x,ur_y),(ur_x,ur_y),(ur_x,ll_y)])\n",
    "    return polygon\n",
    "flare_polygon = line_to_polygon_flare(flare_df.iloc[0])\n",
    "flare_polygon"
   ]
  },
  {
   "cell_type": "code",
   "execution_count": 14,
   "metadata": {
    "tags": []
   },
   "outputs": [
    {
     "output_type": "execute_result",
     "data": {
      "text/plain": "<shapely.geometry.polygon.Polygon at 0x7fa175677130>",
      "image/svg+xml": "<svg xmlns=\"http://www.w3.org/2000/svg\" xmlns:xlink=\"http://www.w3.org/1999/xlink\" width=\"100.0\" height=\"100.0\" viewBox=\"-32.23283208761313 13.088952869517042 8.657075714925025 15.59550272750396\" preserveAspectRatio=\"xMinYMin meet\"><g transform=\"matrix(1,0,0,-1,0,41.773408466538044)\"><path fill-rule=\"evenodd\" fill=\"#66cc99\" stroke=\"#555555\" stroke-width=\"0.3119100545500792\" opacity=\"0.6\" d=\"M -31.65522087548336,13.666564081646818 L -31.65522087548336,28.106844384891225 L -24.153367584817886,28.106844384891225 L -24.153367584817886,13.666564081646818 L -31.65522087548336,13.666564081646818 z\" /></g></svg>"
     },
     "metadata": {},
     "execution_count": 14
    }
   ],
   "source": [
    "s=pd.Series(sot_fg_2010.loc[0])\n",
    "def line_to_polygon_hinode (line):\n",
    "    ll = [line[\"XCEN\"]-line[\"FOVX\"]//2,line[\"XCEN\"]+line[\"FOVX\"]//2]\n",
    "    ur =[line[\"YCEN\"]-line[\"FOVY\"]//2,line[\"YCEN\"]+line[\"FOVY\"]//2]\n",
    "    c=SkyCoord(ll*u.arcsec,ur*u.arcsec,frame = frames.Helioprojective,obstime= s[\"DATE_OBS\"],observer=\"earth\")\n",
    "    c = c.transform_to(frames.HeliographicStonyhurst)\n",
    "    # print(c)\n",
    "    ll_x = c.lat[0].value\n",
    "    ll_y = c.lon[0].value\n",
    "    ur_x = c.lat[1].value\n",
    "    ur_y = c.lon[1].value\n",
    "    polygon = Polygon([(ll_x,ll_y),(ll_x,ur_y),(ur_x,ur_y),(ur_x,ll_y)])\n",
    "    return polygon\n",
    "hinode_polygon = line_to_polygon_hinode(s)\n",
    "hinode_polygon"
   ]
  },
  {
   "cell_type": "markdown",
   "metadata": {},
   "source": [
    "## ここまでを踏まえて実際に座標比較\n",
    "⚠️計算量多い\n"
   ]
  },
  {
   "cell_type": "code",
   "execution_count": 15,
   "metadata": {
    "tags": []
   },
   "outputs": [],
   "source": [
    "# def is_intersection(polygonA,polygonB):\n",
    "#     return polygonA.intersection(polygonB)\n",
    "# def is_in_time (hinode_line,flare_line):\n",
    "#     hinode_start = hinode_line[\"DATE_OBS\"]\n",
    "#     hinode_end = hinode_line[\"DATE_END\"]\n",
    "#     flare_start =  datetime.datetime.strptime(flare_line[\"event_starttime\"],\"%Y-%m-%dT%H:%M:%S\")\n",
    "#     flare_end = datetime.datetime.strptime(flare_line[\"event_endtime\"],\"%Y-%m-%dT%H:%M:%S\")\n",
    "#     print(flare_start,hinode_start,hinode_end,flare_end)\n",
    "#     return flare_start < hinode_start and hinode_end<flare_end\n",
    "# for i in range(len(flare_df)):\n",
    "#     flare_line = flare_df.loc[i]\n",
    "#     flare_polygon = line_to_polygon_flare(flare_line)\n",
    "#     # print(\"flare:\"+str(flare_polygon))\n",
    "#     for j in range(len(sot_fg_2010)):\n",
    "#         hinode_line = sot_fg_2010.loc[j]\n",
    "#         hinode_polygon = line_to_polygon_hinode(hinode_line)\n",
    "#         print(is_in_time(hinode_line,flare_line))\n",
    "#         if is_in_time(hinode_line,flare_line) and is_intersection(hinode_polygon,flare_polygon):\n",
    "#             print(\"intersection\")\n",
    "\n",
    "# if hinode_polygon.intersection(flare_polygon):\n",
    "#     sys.exit()\n",
    "# else:\n",
    "#     print(\"empty\")"
   ]
  },
  {
   "cell_type": "code",
   "execution_count": 16,
   "metadata": {},
   "outputs": [
    {
     "output_type": "error",
     "ename": "NameError",
     "evalue": "name 'hinode_line' is not defined",
     "traceback": [
      "\u001b[0;31m---------------------------------------------------------------------------\u001b[0m",
      "\u001b[0;31mNameError\u001b[0m                                 Traceback (most recent call last)",
      "\u001b[0;32m<ipython-input-16-0325b89d05ec>\u001b[0m in \u001b[0;36m<module>\u001b[0;34m\u001b[0m\n\u001b[0;32m----> 1\u001b[0;31m \u001b[0mhinode_line\u001b[0m\u001b[0;34m[\u001b[0m\u001b[0;34m\"DATE_OBS\"\u001b[0m\u001b[0;34m]\u001b[0m\u001b[0;34m\u001b[0m\u001b[0;34m\u001b[0m\u001b[0m\n\u001b[0m\u001b[1;32m      2\u001b[0m \u001b[0mdatetime\u001b[0m\u001b[0;34m.\u001b[0m\u001b[0mdatetime\u001b[0m\u001b[0;34m.\u001b[0m\u001b[0mstrptime\u001b[0m\u001b[0;34m(\u001b[0m\u001b[0mflare_line\u001b[0m\u001b[0;34m[\u001b[0m\u001b[0;34m\"event_starttime\"\u001b[0m\u001b[0;34m]\u001b[0m\u001b[0;34m,\u001b[0m\u001b[0;34m\"%Y-%m-%dT%H:%M:%S\"\u001b[0m\u001b[0;34m)\u001b[0m\u001b[0;34m\u001b[0m\u001b[0;34m\u001b[0m\u001b[0m\n",
      "\u001b[0;31mNameError\u001b[0m: name 'hinode_line' is not defined"
     ]
    }
   ],
   "source": [
    "hinode_line[\"DATE_OBS\"]\n",
    "datetime.datetime.strptime(flare_line[\"event_starttime\"],\"%Y-%m-%dT%H:%M:%S\")"
   ]
  },
  {
   "cell_type": "code",
   "execution_count": 18,
   "metadata": {},
   "outputs": [
    {
     "output_type": "execute_result",
     "data": {
      "text/plain": "<HEKTable length=7>\n         SOL_standard          active ... skel_startc2 sum_overlap_scores\n            str30               str4  ...    object           str1       \n------------------------------ ------ ... ------------ ------------------\nSOL2010-05-01T01:24:17L162C065   true ...         None                  0\nSOL2010-05-01T01:34:00L169C066   true ...         None                  0\nSOL2010-05-01T01:34:00L177C067   true ...         None                  0\nSOL2010-05-01T05:23:00L249C090   true ...         None                  0\nSOL2010-05-01T05:23:00L173C068   true ...         None                  0\nSOL2010-05-01T09:48:00L167C065   true ...         None                  0\nSOL2010-05-01T09:48:00L246C090   true ...         None                  0",
      "text/html": "<i>HEKTable length=7</i>\n<table id=\"table140331436065168\" class=\"table-striped table-bordered table-condensed\">\n<thead><tr><th>SOL_standard</th><th>active</th><th>ar_compactnesscls</th><th>ar_mcintoshcls</th><th>ar_mtwilsoncls</th><th>ar_noaaclass</th><th>ar_noaanum</th><th>ar_numspots</th><th>ar_penumbracls</th><th>ar_polarity</th><th>ar_zurichcls</th><th>area_atdiskcenter</th><th>area_atdiskcenteruncert</th><th>area_raw</th><th>area_uncert</th><th>area_unit</th><th>bound_ccnsteps</th><th>bound_ccstartc1</th><th>bound_ccstartc2</th><th>bound_chaincode</th><th>boundbox_c1ll</th><th>boundbox_c1ur</th><th>boundbox_c2ll</th><th>boundbox_c2ur</th><th>chaincodetype</th><th>comment_count</th><th>concept</th><th>event_avg_rating</th><th>event_c1error</th><th>event_c2error</th><th>event_clippedspatial</th><th>event_clippedtemporal</th><th>event_coord1</th><th>event_coord2</th><th>event_coord3</th><th>event_coordsys</th><th>event_coordunit</th><th>event_description</th><th>event_endtime</th><th>event_expires</th><th>event_importance</th><th>event_importance_num_ratings</th><th>event_mapurl</th><th>event_maskurl</th><th>event_npixels</th><th>event_peaktime</th><th>event_pixelunit</th><th>event_probability</th><th>event_score</th><th>event_starttime</th><th>event_testflag</th><th>event_title</th><th>event_type</th><th>eventtype</th><th>fl_efoldtime</th><th>fl_efoldtimeunit</th><th>fl_fluence</th><th>fl_fluenceunit</th><th>fl_goescls</th><th>fl_halphaclass</th><th>fl_peakem</th><th>fl_peakemunit</th><th>fl_peakflux</th><th>fl_peakfluxunit</th><th>fl_peaktemp</th><th>fl_peaktempunit</th><th>frm_contact</th><th>frm_daterun</th><th>frm_humanflag</th><th>frm_identifier</th><th>frm_institute</th><th>frm_name</th><th>frm_paramset</th><th>frm_specificid</th><th>frm_url</th><th>frm_versionnumber</th><th>gs_galleryid</th><th>gs_imageurl</th><th>gs_movieurl</th><th>gs_thumburl</th><th>hcr_checked</th><th>hgc_bbox</th><th>hgc_boundcc</th><th>hgc_coord</th><th>hgc_x</th><th>hgc_y</th><th>hgs_bbox</th><th>hgs_boundcc</th><th>hgs_coord</th><th>hgs_x</th><th>hgs_y</th><th>hpc_bbox</th><th>hpc_boundcc</th><th>hpc_coord</th><th>hpc_geom</th><th>hpc_radius</th><th>hpc_x</th><th>hpc_y</th><th>hrc_a</th><th>hrc_bbox</th><th>hrc_boundcc</th><th>hrc_coord</th><th>hrc_r</th><th>intenskurt</th><th>intensmax</th><th>intensmean</th><th>intensmedian</th><th>intensmin</th><th>intensskew</th><th>intenstotal</th><th>intensunit</th><th>intensvar</th><th>kb_archivdate</th><th>kb_archivid</th><th>kb_archivist</th><th>noposition</th><th>obs_channelid</th><th>obs_dataprepurl</th><th>obs_firstprocessingdate</th><th>obs_includesnrt</th><th>obs_instrument</th><th>obs_lastprocessingdate</th><th>obs_levelnum</th><th>obs_meanwavel</th><th>obs_observatory</th><th>obs_title</th><th>obs_wavelunit</th><th>rasterscan</th><th>rasterscantype</th><th>refs</th><th>refs_orig</th><th>revision</th><th>search_channelid</th><th>search_frm_name</th><th>search_instrument</th><th>search_observatory</th><th>skel_chaincode</th><th>skel_curvature</th><th>skel_nsteps</th><th>skel_startc1</th><th>skel_startc2</th><th>sum_overlap_scores</th></tr></thead>\n<thead><tr><th>str30</th><th>str4</th><th>str1</th><th>str1</th><th>str1</th><th>str1</th><th>object</th><th>object</th><th>str1</th><th>object</th><th>str1</th><th>object</th><th>object</th><th>object</th><th>object</th><th>str1</th><th>object</th><th>object</th><th>object</th><th>str1</th><th>float64</th><th>float64</th><th>float64</th><th>float64</th><th>str1</th><th>str1</th><th>str5</th><th>object</th><th>float64</th><th>float64</th><th>str1</th><th>str1</th><th>int64</th><th>int64</th><th>object</th><th>str12</th><th>str7</th><th>str16</th><th>str19</th><th>str1</th><th>object</th><th>str1</th><th>str1</th><th>str1</th><th>object</th><th>str19</th><th>str1</th><th>object</th><th>str20</th><th>str19</th><th>str5</th><th>str14</th><th>str2</th><th>str1</th><th>object</th><th>str1</th><th>object</th><th>str1</th><th>str4</th><th>str1</th><th>object</th><th>str1</th><th>object</th><th>str1</th><th>object</th><th>str1</th><th>str23</th><th>str19</th><th>str5</th><th>str9</th><th>str61</th><th>str17</th><th>str57</th><th>str1</th><th>str82</th><th>object</th><th>str41</th><th>str97</th><th>str94</th><th>str103</th><th>str4</th><th>str88</th><th>str1</th><th>str27</th><th>float64</th><th>float64</th><th>str66</th><th>str1</th><th>str27</th><th>float64</th><th>float64</th><th>str98</th><th>str1</th><th>str24</th><th>str186</th><th>str19</th><th>float64</th><th>float64</th><th>float64</th><th>str110</th><th>str1</th><th>str41</th><th>float64</th><th>object</th><th>object</th><th>object</th><th>object</th><th>object</th><th>object</th><th>object</th><th>str1</th><th>object</th><th>str19</th><th>str73</th><th>str15</th><th>str5</th><th>str3</th><th>str1</th><th>str1</th><th>str1</th><th>str4</th><th>str1</th><th>object</th><th>float64</th><th>str4</th><th>str1</th><th>str2</th><th>str1</th><th>str1</th><th>object</th><th>str1</th><th>str1</th><th>str19</th><th>str17</th><th>str4</th><th>str4</th><th>str1</th><th>object</th><th>object</th><th>object</th><th>object</th><th>str1</th></tr></thead>\n<tr><td>SOL2010-05-01T01:24:17L162C065</td><td>true</td><td></td><td></td><td></td><td></td><td>None</td><td>None</td><td></td><td>None</td><td></td><td>None</td><td>None</td><td>None</td><td>None</td><td></td><td>None</td><td>None</td><td>None</td><td></td><td>-801.0</td><td>-945.0</td><td>484.0</td><td>351.0</td><td></td><td>0</td><td>Flare</td><td>0.6</td><td>72.15</td><td>66.7</td><td></td><td></td><td>-873</td><td>417</td><td>None</td><td>UTC-HPC-TOPO</td><td>arcsec</td><td>C 5.7 limb flare</td><td>2010-05-01T03:07:25</td><td></td><td>0.6</td><td>1</td><td></td><td></td><td>None</td><td>2010-05-01T01:36:40</td><td></td><td>None</td><td></td><td>2010-05-01T01:24:17</td><td>false</td><td>C5.7 limb flre</td><td>FL</td><td>9</td><td>None</td><td></td><td>None</td><td></td><td></td><td></td><td>None</td><td></td><td>None</td><td></td><td>None</td><td></td><td>Scott Green</td><td>2010-05-01T17:59:59</td><td>true</td><td>Annotator</td><td>LMSAL</td><td>Annotator</td><td>n/a</td><td></td><td>n/a</td><td>None</td><td>pod_schrijver_karel_20100501T11:00:01.598</td><td>http://www.lmsal.com/hpkb/podimages/pod_schrijver_karel_20100501T11%3A00%3A01.598/frame_00001.jpg</td><td>http://www.lmsal.com/hpkb/podimages/pod_schrijver_karel_20100501T11%3A00%3A01.598/pmovie-2.mpg</td><td>http://www.lmsal.com/hpkb/podimages/pod_schrijver_karel_20100501T11%3A00%3A01.598/thumb/frame_00001.jpg</td><td>true</td><td></td><td></td><td>POINT(162.733987 25.437367)</td><td>162.733987</td><td>25.437367</td><td></td><td></td><td>POINT(-87.711603 25.437367)</td><td>-87.711603</td><td>25.437367</td><td>POLYGON((-945 351,-801 351,-801 484,-945 484,-945 351))</td><td></td><td>POINT(-873 417)</td><td>010300000001000000050000000000000000888DC00000000000F0754000000000000889C00000000000F0754000000000000889C00000000000407E400000000000888DC00000000000407E400000000000888DC00000000000F07540</td><td>967.480232356196552</td><td>-873.0</td><td>417.0</td><td>64.4679092018044</td><td>POLYGON((1.050084 69.623565,0.910968 66.336859,0.974867 58.857753,1.105974 62.879868,1.050084 69.623565))</td><td></td><td>POINT(1.00779190870437 64.4679092018044)</td><td>1.00779190870437</td><td>None</td><td>None</td><td>None</td><td>None</td><td>None</td><td>None</td><td>None</td><td></td><td>None</td><td>2010-05-01T18:00:02</td><td>ivo://helio-informatics.org/FL171_KarelSchrijver_20100501_175959</td><td>schrijver_karel</td><td>false</td><td>171</td><td></td><td></td><td></td><td>AIA</td><td></td><td>None</td><td>1.71e-06</td><td>SDO</td><td></td><td>cm</td><td></td><td></td><td>[{&apos;ref_name&apos;: &apos;Event_MapURL&apos;, &apos;ref_type&apos;: &apos;unknown&apos;, &apos;ref_url&apos;: &apos;&apos;}, {&apos;ref_name&apos;: &apos;FRM_URL&apos;, &apos;ref_type&apos;: &apos;unknown&apos;, &apos;ref_url&apos;: &apos;n/a&apos;}]</td><td></td><td>1</td><td>171</td><td>Human Annotation</td><td>AIA</td><td>SDO</td><td></td><td>None</td><td>None</td><td>None</td><td>None</td><td>0</td></tr>\n<tr><td>SOL2010-05-01T01:34:00L169C066</td><td>true</td><td></td><td></td><td></td><td></td><td>0</td><td>None</td><td></td><td>None</td><td></td><td>None</td><td>None</td><td>None</td><td>None</td><td></td><td>None</td><td>None</td><td>None</td><td></td><td>-82.0</td><td>-80.0</td><td>23.0</td><td>25.0</td><td></td><td>0</td><td>Flare</td><td>None</td><td>0.0</td><td>0.0</td><td></td><td></td><td>-81</td><td>24</td><td>None</td><td>UTC-HGS-TOPO</td><td>degrees</td><td></td><td>2010-05-01T01:43:00</td><td></td><td>None</td><td>0</td><td></td><td></td><td>None</td><td>2010-05-01T01:39:00</td><td></td><td>1</td><td>0.514000000000000012</td><td>2010-05-01T01:34:00</td><td>false</td><td></td><td>FL</td><td>9</td><td>None</td><td></td><td>None</td><td></td><td>C5.7</td><td></td><td>None</td><td></td><td>None</td><td></td><td>None</td><td></td><td>Samuel L. Freeland</td><td>2010-05-01T00:00:00</td><td>false</td><td>SolarSoft</td><td>LMSAL</td><td>SSW Latest Events</td><td>AIA20100501_013406_0171.fits,AIA20100501_013706_0171.fits</td><td></td><td>http://sohowww.nascom.nasa.gov/solarsoft/packages/gevloc/idl/ssw_flare_locator.pro</td><td>None</td><td></td><td></td><td></td><td></td><td>true</td><td></td><td></td><td>POINT(169.35642 24)</td><td>169.35642</td><td>24.0</td><td></td><td></td><td>POINT(-80.9999999999999 24)</td><td>-80.9999999999999</td><td>24.0</td><td>POLYGON((16.69878 86.4576,16.69878 86.4576,16.69878 86.4576,16.69878 86.4576,16.69878 86.4576))</td><td></td><td>POINT(-859.938 396.5484)</td><td>010300000001000000050000002FDD240681198CC00612143FC65476402FDD240681198CC00612143FC63C7B402FDD240681A589C00612143FC63C7B402FDD240681A589C00612143FC65476402FDD240681198CC00612143FC6547640</td><td>946.965679096428516</td><td>-859.938</td><td>396.5484</td><td>65.2438705710425</td><td>POLYGON((0.091724 349.068264,0.091724 349.068264,0.091724 349.068264,0.091724 349.068264,0.091724 349.068264))</td><td></td><td>POINT(0.986422582392113 65.2438705710425)</td><td>0.986422582392113</td><td>None</td><td>None</td><td>None</td><td>None</td><td>None</td><td>None</td><td>None</td><td></td><td>None</td><td>2010-05-01T02:25:04</td><td>ivo://helio-informatics.org/FL_SSWLatestEvents_20100430_192504_473</td><td>freeland_samuel</td><td>false</td><td>EUV</td><td></td><td></td><td></td><td>AIA</td><td></td><td>None</td><td>1.71e-06</td><td>SDO</td><td></td><td>cm</td><td></td><td></td><td>[{&apos;ref_name&apos;: &apos;Event-Context&apos;, &apos;ref_type&apos;: &apos;html&apos;, &apos;ref_url&apos;: &apos;http://www.lmsal.com/solarsoft/latest_events/&apos;}, {&apos;ref_name&apos;: &apos;FRM_URL&apos;, &apos;ref_type&apos;: &apos;unknown&apos;, &apos;ref_url&apos;: &apos;http://sohowww.nascom.nasa.gov/solarsoft/packages/gevloc/idl/ssw_flare_locator.pro&apos;}, {&apos;ref_name&apos;: &apos;Event-Summary&apos;, &apos;ref_type&apos;: &apos;html&apos;, &apos;ref_url&apos;: &apos;http://www.lmsal.com/solarsoft/latest_events/gev_20100501_0134.html&apos;}, {&apos;ref_name&apos;: &apos;Event-Detection(diff)&apos;, &apos;ref_type&apos;: &apos;image&apos;, &apos;ref_url&apos;: &apos;http://www.lmsal.com/solarsoft/latest_events/gev_20100501_0134.png&apos;}, {&apos;ref_name&apos;: &apos;SoHO/LASCO(diff) Movie&apos;, &apos;ref_type&apos;: &apos;html&apos;, &apos;ref_url&apos;: &apos;http://www.lmsal.com/solarsoft/latest_events_summary/gev_20100501_0134/gev_20100501_0134_laslm.html&apos;}]</td><td></td><td>1</td><td>131,171,193,211,304</td><td>SSW Latest Events</td><td>AIA</td><td>SDO</td><td></td><td>None</td><td>None</td><td>None</td><td>None</td><td>0</td></tr>\n<tr><td>SOL2010-05-01T01:34:00L177C067</td><td>true</td><td></td><td></td><td></td><td></td><td>11067</td><td>None</td><td></td><td>None</td><td></td><td>None</td><td>None</td><td>None</td><td>None</td><td></td><td>None</td><td>None</td><td>None</td><td></td><td>-73.5</td><td>-72.5</td><td>22.5</td><td>23.5</td><td></td><td>0</td><td>Flare</td><td>None</td><td>1.0</td><td>1.0</td><td></td><td></td><td>-73</td><td>23</td><td>None</td><td>UTC-HGS-TOPO</td><td>degrees</td><td></td><td>2010-05-01T01:43:00</td><td></td><td>None</td><td></td><td></td><td></td><td>None</td><td>2010-05-01T01:39:00</td><td></td><td>None</td><td>0.514000000000000012</td><td>2010-05-01T01:34:00</td><td>false</td><td></td><td>FL</td><td>9</td><td>None</td><td></td><td>None</td><td></td><td>C5.7</td><td></td><td>None</td><td></td><td>None</td><td></td><td>None</td><td></td><td>SWPC.Webmaster@noaa.gov</td><td>2010-05-01T00:00:00</td><td>false</td><td>SWPC</td><td>U.S. Dept. of Commerce, NOAA, Space Weather Prediction Center</td><td>SWPC</td><td>-</td><td></td><td>http://www.swpc.noaa.gov/</td><td>None</td><td></td><td></td><td></td><td></td><td>true</td><td>POLYGON((176.85641 22.5,177.85641 22.5,177.85641 23.5,176.85641 23.5,176.85641 22.5))</td><td></td><td>POINT(177.35641 23)</td><td>177.35641</td><td>23.0</td><td>POLYGON((-73.5 22.5,-72.5 22.5,-72.5 23.5,-73.5 23.5,-73.5 22.5))</td><td></td><td>POINT(-73 23)</td><td>-73.0</td><td>23.0</td><td>POLYGON((-844.122 381.936,-839.688 383.0358,-833.478 398.1564,-837.876 397.0644,-844.122 381.936))</td><td></td><td>POINT(-838.854 390.0636)</td><td>0103000000010000000500000046B6F3FDD4708BC069006F8104ED754046B6F3FDD4708BC069006F8104D57A4046B6F3FDD4FC88C069006F8104D57A4046B6F3FDD4FC88C069006F8104ED754046B6F3FDD4708BC069006F8104ED7540</td><td>925.108450594285728</td><td>-838.854</td><td>390.0636</td><td>65.0617694642919</td><td>POLYGON((0.973344 65.654894,0.969581 65.479215,0.97039 64.465972,0.974069 64.644008,0.973344 65.654894))</td><td></td><td>POINT(0.971873915470461 65.0617694642919)</td><td>0.971873915470461</td><td>None</td><td>None</td><td>None</td><td>None</td><td>None</td><td>None</td><td>None</td><td></td><td>None</td><td>2014-05-29T00:16:31</td><td>ivo://helio-informatics.org/FL_SECstandard_20100613_152614_20100501013400</td><td>cheung_mark</td><td>false</td><td>XRA</td><td></td><td></td><td></td><td>GOES</td><td></td><td>None</td><td>5e-08</td><td>GOES</td><td></td><td>cm</td><td></td><td></td><td>[{&apos;ref_name&apos;: &apos;FRM_URL&apos;, &apos;ref_type&apos;: &apos;unknown&apos;, &apos;ref_url&apos;: &apos;http://www.swpc.noaa.gov/&apos;}]</td><td></td><td>3</td><td>XRA</td><td>SWPC</td><td>GOES</td><td>GOES</td><td></td><td>None</td><td>None</td><td>None</td><td>None</td><td>0</td></tr>\n<tr><td>SOL2010-05-01T05:23:00L249C090</td><td>true</td><td></td><td></td><td></td><td></td><td>11064</td><td>None</td><td></td><td>None</td><td></td><td>None</td><td>None</td><td>None</td><td>None</td><td></td><td>None</td><td>None</td><td>None</td><td></td><td>-90.0</td><td>90.0</td><td>-90.0</td><td>90.0</td><td></td><td>0</td><td>Flare</td><td>None</td><td>90.0</td><td>90.0</td><td></td><td></td><td>0</td><td>0</td><td>None</td><td>UTC-HGS-TOPO</td><td>degrees</td><td></td><td>2010-05-01T05:31:00</td><td></td><td>None</td><td></td><td></td><td></td><td>None</td><td>2010-05-01T05:27:00</td><td></td><td>None</td><td>0.232000000000000012</td><td>2010-05-01T05:23:00</td><td>false</td><td></td><td>FL</td><td>9</td><td>None</td><td></td><td>None</td><td></td><td>B1.6</td><td></td><td>None</td><td></td><td>None</td><td></td><td>None</td><td></td><td>SWPC.Webmaster@noaa.gov</td><td>2010-05-01T00:00:00</td><td>false</td><td>SWPC</td><td>U.S. Dept. of Commerce, NOAA, Space Weather Prediction Center</td><td>SWPC</td><td>-</td><td></td><td>http://www.swpc.noaa.gov/</td><td>None</td><td></td><td></td><td></td><td></td><td>true</td><td>POLYGON((158.35468 -89.9,-21.84532 -89.9,-21.84532 89.9,158.35468 89.9,158.35468 -89.9))</td><td></td><td>POINT(-111.74533 0)</td><td>-111.74533</td><td>0.0</td><td>POLYGON((-89.9 -89.9,89.9 -89.9,89.9 89.9,-89.9 89.9,-89.9 -89.9))</td><td></td><td>POINT(0 0)</td><td>0.0</td><td>0.0</td><td>POLYGON((0.000083 -949.644,-0.000083 -949.644,0 949.008,0 949.008,0.000083 -949.644))</td><td></td><td>POINT(0 69.5046)</td><td></td><td>69.5045999999999964</td><td>0.0</td><td>69.5046</td><td>0.0</td><td>POLYGON((0.99769 180.000005,0.99769 179.999995,0.997022 0,0.997022 0,0.99769 180.000005))</td><td></td><td>POINT(0.073021125052682 0)</td><td>0.073021125052682</td><td>None</td><td>None</td><td>None</td><td>None</td><td>None</td><td>None</td><td>None</td><td></td><td>None</td><td>2014-01-09T22:38:54</td><td>ivo://helio-informatics.org/FL_SECstandard_20100623_062239_20100501052300</td><td>cheung_mark</td><td>true</td><td>XRA</td><td></td><td></td><td></td><td>GOES</td><td></td><td>None</td><td>5e-08</td><td>GOES</td><td></td><td>cm</td><td></td><td></td><td>[{&apos;ref_name&apos;: &apos;FRM_URL&apos;, &apos;ref_type&apos;: &apos;unknown&apos;, &apos;ref_url&apos;: &apos;http://www.swpc.noaa.gov/&apos;}]</td><td></td><td>2</td><td>XRA</td><td>SWPC</td><td>GOES</td><td>GOES</td><td></td><td>None</td><td>None</td><td>None</td><td>None</td><td>0</td></tr>\n<tr><td>SOL2010-05-01T05:23:00L173C068</td><td>true</td><td></td><td></td><td></td><td></td><td>0</td><td>None</td><td></td><td>None</td><td></td><td>None</td><td>None</td><td>None</td><td>None</td><td></td><td>None</td><td>None</td><td>None</td><td></td><td>-76.0</td><td>-74.0</td><td>21.0</td><td>23.0</td><td></td><td>0</td><td>Flare</td><td>None</td><td>0.0</td><td>0.0</td><td></td><td></td><td>-75</td><td>22</td><td>None</td><td>UTC-HGS-TOPO</td><td>degrees</td><td></td><td>2010-05-01T05:31:00</td><td></td><td>None</td><td>0</td><td></td><td></td><td>None</td><td>2010-05-01T05:27:00</td><td></td><td>1</td><td>0.232000000000000012</td><td>2010-05-01T05:23:00</td><td>false</td><td></td><td>FL</td><td>9</td><td>None</td><td></td><td>None</td><td></td><td>B1.6</td><td></td><td>None</td><td></td><td>None</td><td></td><td>None</td><td></td><td>Samuel L. Freeland</td><td>2010-05-01T00:00:00</td><td>false</td><td>SolarSoft</td><td>LMSAL</td><td>SSW Latest Events</td><td>AIA20100501_052306_0171.fits,AIA20100501_052518_0171.fits</td><td></td><td>http://sohowww.nascom.nasa.gov/solarsoft/packages/gevloc/idl/ssw_flare_locator.pro</td><td>None</td><td></td><td></td><td></td><td></td><td>true</td><td></td><td></td><td>POINT(173.25468 22)</td><td>173.25468</td><td>22.0</td><td></td><td></td><td>POINT(-74.9999999999999 22)</td><td>-74.9999999999999</td><td>22.0</td><td>POLYGON((16.69812 86.1888,16.69812 86.1888,16.69812 86.1888,16.69812 86.1888,16.69812 86.1888))</td><td></td><td>POINT(-853.902 372.8568)</td><td>01030000000100000005000000F0A7C64B37778BC067B3EA73B5BD7540F0A7C64B37778BC067B3EA73B5DD7840F0A7C64B37E789C067B3EA73B5DD7840F0A7C64B37E789C067B3EA73B5BD7540F0A7C64B37778BC067B3EA73B5BD7540</td><td>931.756845378792946</td><td>-853.902</td><td>372.8568</td><td>66.4114845673538</td><td>POLYGON((0.091449 349.035418,0.091449 349.035418,0.091449 349.035418,0.091449 349.035418,0.091449 349.035418))</td><td></td><td>POINT(0.970580047269576 66.4114845673538)</td><td>0.970580047269576</td><td>None</td><td>None</td><td>None</td><td>None</td><td>None</td><td>None</td><td>None</td><td></td><td>None</td><td>2010-05-01T06:06:02</td><td>ivo://helio-informatics.org/FL_SSWLatestEvents_20100430_230601_839</td><td>freeland_samuel</td><td>false</td><td>EUV</td><td></td><td></td><td></td><td>AIA</td><td></td><td>None</td><td>1.71e-06</td><td>SDO</td><td></td><td>cm</td><td></td><td></td><td>[{&apos;ref_name&apos;: &apos;FRM_URL&apos;, &apos;ref_type&apos;: &apos;unknown&apos;, &apos;ref_url&apos;: &apos;http://sohowww.nascom.nasa.gov/solarsoft/packages/gevloc/idl/ssw_flare_locator.pro&apos;}, {&apos;ref_name&apos;: &apos;Event-Summary&apos;, &apos;ref_type&apos;: &apos;html&apos;, &apos;ref_url&apos;: &apos;http://www.lmsal.com/solarsoft/latest_events/gev_20100501_0523.html&apos;}, {&apos;ref_name&apos;: &apos;Event-Detection(diff)&apos;, &apos;ref_type&apos;: &apos;image&apos;, &apos;ref_url&apos;: &apos;http://www.lmsal.com/solarsoft/latest_events/gev_20100501_0523.png&apos;}, {&apos;ref_name&apos;: &apos;Event-Context&apos;, &apos;ref_type&apos;: &apos;html&apos;, &apos;ref_url&apos;: &apos;http://www.lmsal.com/solarsoft/latest_events/&apos;}]</td><td></td><td>1</td><td>131,171,193,211,304</td><td>SSW Latest Events</td><td>AIA</td><td>SDO</td><td></td><td>None</td><td>None</td><td>None</td><td>None</td><td>0</td></tr>\n<tr><td>SOL2010-05-01T09:48:00L167C065</td><td>true</td><td></td><td></td><td></td><td></td><td>0</td><td>None</td><td></td><td>None</td><td></td><td>None</td><td>None</td><td>None</td><td>None</td><td></td><td>None</td><td>None</td><td>None</td><td></td><td>-79.0</td><td>-77.0</td><td>24.0</td><td>26.0</td><td></td><td>0</td><td>Flare</td><td>None</td><td>0.0</td><td>0.0</td><td></td><td></td><td>-78</td><td>25</td><td>None</td><td>UTC-HGS-TOPO</td><td>degrees</td><td></td><td>2010-05-01T09:52:00</td><td></td><td>None</td><td>0</td><td></td><td></td><td>None</td><td>2010-05-01T09:51:00</td><td></td><td>1</td><td>0.220000000000000001</td><td>2010-05-01T09:48:00</td><td>false</td><td></td><td>FL</td><td>9</td><td>None</td><td></td><td>None</td><td></td><td>B1.0</td><td></td><td>None</td><td></td><td>None</td><td></td><td>None</td><td></td><td>Samuel L. Freeland</td><td>2010-05-01T00:00:00</td><td>false</td><td>SolarSoft</td><td>LMSAL</td><td>SSW Latest Events</td><td>AIA20100501_094809_0171.fits,AIA20100501_094909_0171.fits</td><td></td><td>http://sohowww.nascom.nasa.gov/solarsoft/packages/gevloc/idl/ssw_flare_locator.pro</td><td>None</td><td></td><td></td><td></td><td></td><td>true</td><td></td><td></td><td>POINT(167.82251 25)</td><td>167.82251</td><td>25.0</td><td></td><td></td><td>POINT(-77.9999999999999 25)</td><td>-77.9999999999999</td><td>25.0</td><td>POLYGON((16.69728 85.8774,16.69728 85.8774,16.69728 85.8774,16.69728 85.8774,16.69728 85.8774))</td><td></td><td>POINT(-844.986 414.768)</td><td>01030000000100000005000000D9CEF753E32F8BC03F355EBA495C7840D9CEF753E32F8BC03F355EBA497C7B40D9CEF753E39F89C03F355EBA497C7B40D9CEF753E39F89C03F355EBA495C7840D9CEF753E32F8BC03F355EBA495C7840</td><td>941.2937023161262</td><td>-844.986</td><td>414.768</td><td>63.8555251859193</td><td>POLYGON((0.091131 348.997168,0.091131 348.997168,0.091131 348.997168,0.091131 348.997168,0.091131 348.997168))</td><td></td><td>POINT(0.980514273245965 63.8555251859193)</td><td>0.980514273245965</td><td>None</td><td>None</td><td>None</td><td>None</td><td>None</td><td>None</td><td>None</td><td></td><td>None</td><td>2010-05-01T10:22:26</td><td>ivo://helio-informatics.org/FL_SSWLatestEvents_20100501_032226_345</td><td>freeland_samuel</td><td>false</td><td>EUV</td><td></td><td></td><td></td><td>AIA</td><td></td><td>None</td><td>1.71e-06</td><td>SDO</td><td></td><td>cm</td><td></td><td></td><td>[{&apos;ref_name&apos;: &apos;FRM_URL&apos;, &apos;ref_type&apos;: &apos;unknown&apos;, &apos;ref_url&apos;: &apos;http://sohowww.nascom.nasa.gov/solarsoft/packages/gevloc/idl/ssw_flare_locator.pro&apos;}, {&apos;ref_name&apos;: &apos;Event-Summary&apos;, &apos;ref_type&apos;: &apos;html&apos;, &apos;ref_url&apos;: &apos;http://www.lmsal.com/solarsoft/latest_events/gev_20100501_0948.html&apos;}, {&apos;ref_name&apos;: &apos;Event-Detection(diff)&apos;, &apos;ref_type&apos;: &apos;image&apos;, &apos;ref_url&apos;: &apos;http://www.lmsal.com/solarsoft/latest_events/gev_20100501_0948.png&apos;}, {&apos;ref_name&apos;: &apos;Event-Context&apos;, &apos;ref_type&apos;: &apos;html&apos;, &apos;ref_url&apos;: &apos;http://www.lmsal.com/solarsoft/latest_events/&apos;}, {&apos;ref_name&apos;: &apos;SoHO/LASCO(diff) Movie&apos;, &apos;ref_type&apos;: &apos;html&apos;, &apos;ref_url&apos;: &apos;http://www.lmsal.com/solarsoft/latest_events_summary/gev_20100501_0948/gev_20100501_0948_laslm.html&apos;}]</td><td></td><td>1</td><td>131,171,193,211,304</td><td>SSW Latest Events</td><td>AIA</td><td>SDO</td><td></td><td>None</td><td>None</td><td>None</td><td>None</td><td>0</td></tr>\n<tr><td>SOL2010-05-01T09:48:00L246C090</td><td>true</td><td></td><td></td><td></td><td></td><td>11067</td><td>None</td><td></td><td>None</td><td></td><td>None</td><td>None</td><td>None</td><td>None</td><td></td><td>None</td><td>None</td><td>None</td><td></td><td>-90.0</td><td>90.0</td><td>-90.0</td><td>90.0</td><td></td><td>0</td><td>Flare</td><td>None</td><td>90.0</td><td>90.0</td><td></td><td></td><td>0</td><td>0</td><td>None</td><td>UTC-HGS-TOPO</td><td>degrees</td><td></td><td>2010-05-01T09:59:00</td><td></td><td>None</td><td></td><td></td><td></td><td>None</td><td>2010-05-01T09:52:00</td><td></td><td>None</td><td>0.220000000000000001</td><td>2010-05-01T09:48:00</td><td>false</td><td></td><td>FL</td><td>9</td><td>None</td><td></td><td>None</td><td></td><td>B1.0</td><td></td><td>None</td><td></td><td>None</td><td></td><td>None</td><td></td><td>SWPC.Webmaster@noaa.gov</td><td>2010-05-01T00:00:00</td><td>false</td><td>SWPC</td><td>U.S. Dept. of Commerce, NOAA, Space Weather Prediction Center</td><td>SWPC</td><td>-</td><td></td><td>http://www.swpc.noaa.gov/</td><td>None</td><td></td><td></td><td></td><td></td><td>true</td><td>POLYGON((155.92251 -89.9,-24.27749 -89.9,-24.27749 89.9,155.92251 89.9,155.92251 -89.9))</td><td></td><td>POINT(-114.17749 0)</td><td>-114.17749</td><td>0.0</td><td>POLYGON((-89.9 -89.9,89.9 -89.9,89.9 89.9,-89.9 89.9,-89.9 -89.9))</td><td></td><td>POINT(0 0)</td><td>0.0</td><td>0.0</td><td>POLYGON((0.000083 -949.62,-0.000083 -949.62,0 948.984,0 948.984,0.000083 -949.62))</td><td></td><td>POINT(0 69.1938)</td><td></td><td>69.193799999999996</td><td>0.0</td><td>69.1938</td><td>0.0</td><td>POLYGON((0.997712 180.000005,0.997712 179.999995,0.997044 0,0.997044 0,0.997712 180.000005))</td><td></td><td>POINT(0.072698025100969 0)</td><td>0.072698025100969</td><td>None</td><td>None</td><td>None</td><td>None</td><td>None</td><td>None</td><td>None</td><td></td><td>None</td><td>2014-01-09T22:38:54</td><td>ivo://helio-informatics.org/FL_SECstandard_20100623_062242_20100501094800</td><td>cheung_mark</td><td>true</td><td>XRA</td><td></td><td></td><td></td><td>GOES</td><td></td><td>None</td><td>5e-08</td><td>GOES</td><td></td><td>cm</td><td></td><td></td><td>[{&apos;ref_name&apos;: &apos;FRM_URL&apos;, &apos;ref_type&apos;: &apos;unknown&apos;, &apos;ref_url&apos;: &apos;http://www.swpc.noaa.gov/&apos;}]</td><td></td><td>2</td><td>XRA</td><td>SWPC</td><td>GOES</td><td>GOES</td><td></td><td>None</td><td>None</td><td>None</td><td>None</td><td>0</td></tr>\n</table>"
     },
     "metadata": {},
     "execution_count": 18
    }
   ],
   "source": [
    "import datetime\n",
    "from sunpy.net import hek\n",
    "import pandas as pd\n",
    "import time\n",
    "from dateutil.relativedelta import relativedelta\n",
    "import datetime\n",
    "import calendar\n",
    "from dateutil.relativedelta import relativedelta\n",
    "client = hek.HEKClient()\n",
    "tstart = \"2010-5-1\"\n",
    "tend = \"2010-5-2\"\n",
    "event_type = 'FL'\n",
    "results = client.search(hek.attrs.Time(tstart,tend),hek.attrs.EventType(event_type))\n",
    "results"
   ]
  },
  {
   "cell_type": "code",
   "execution_count": 21,
   "metadata": {
    "tags": []
   },
   "outputs": [],
   "source": [
    " # 行処理確認\n",
    "for line in flare_df:"
   ]
  }
 ]
}
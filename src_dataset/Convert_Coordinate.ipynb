{
 "metadata": {
  "language_info": {
   "codemirror_mode": {
    "name": "ipython",
    "version": 3
   },
   "file_extension": ".py",
   "mimetype": "text/x-python",
   "name": "python",
   "nbconvert_exporter": "python",
   "pygments_lexer": "ipython3",
   "version": "3.6.10-final"
  },
  "orig_nbformat": 2,
  "kernelspec": {
   "name": "Python 3.6.10 64-bit ('py3.6': conda)",
   "display_name": "Python 3.6.10 64-bit ('py3.6': conda)",
   "metadata": {
    "interpreter": {
     "hash": "c1adb5375f229d1eea2415024ee773cb2493614d24a9913a0f46472292080f4e"
    }
   }
  }
 },
 "nbformat": 4,
 "nbformat_minor": 2,
 "cells": [
  {
   "cell_type": "markdown",
   "metadata": {},
   "source": [
    "# Convert_Coordinate\n",
    "したいこと  \n",
    "→HinodeのCSVデータの座標系がHelioprojectiveでSHARPデータセットの座標系がHeliographic Stonyhurstなのでこの座標系を統一して変換可能な形にしたい  \n",
    "## 参考\n",
    "[Sunpy-coordinate](https://docs.sunpy.org/en/0.7/code_ref/coordinates.html)"
   ]
  },
  {
   "cell_type": "code",
   "execution_count": 3,
   "metadata": {},
   "outputs": [
    {
     "output_type": "execute_result",
     "data": {
      "text/plain": "<Helioprojective Frame (obstime=2011-06-07T06:33:02.770, rsun=696000000.0 m, observer=<HeliographicStonyhurst Coordinate (obstime=2011-06-07T06:33:02.770): (lon, lat, radius) in (deg, deg, m)\n    (-0.00406308, 0.04787238, 1.51846026e+11)>)>"
     },
     "metadata": {},
     "execution_count": 3
    }
   ],
   "source": [
    "# Example\n",
    "from astropy.wcs.utils import wcs_to_celestial_frame\n",
    "import sunpy.coordinates\n",
    "import sunpy.map\n",
    "from sunpy.data.sample import AIA_171_IMAGE\n",
    "from astropy.coordinates import SkyCoord\n",
    "import astropy.units as u\n",
    "amap = sunpy.map.Map(AIA_171_IMAGE)\n",
    "wcs_to_celestial_frame(amap.wcs)"
   ]
  },
  {
   "cell_type": "markdown",
   "metadata": {},
   "source": [
    "## 座標系変換が一番の肝なのでそこを試してみる\n",
    "Hinode→Helioprojective\n",
    "SWAN→Heliographic Stonyhurst\n"
   ]
  },
  {
   "cell_type": "code",
   "execution_count": 30,
   "metadata": {},
   "outputs": [
    {
     "output_type": "execute_result",
     "data": {
      "text/plain": "<SkyCoord (HeliographicStonyhurst: obstime=2010-01-01T00:00:00.000): (lon, lat, radius) in (deg, deg, AU)\n    [(17.83207312, -33.35237352, 0.00465047),\n     (37.45921616, -22.3977444 , 0.00465047)]>"
     },
     "metadata": {},
     "execution_count": 30
    }
   ],
   "source": [
    "import pandas as pd\n",
    "from sunpy.coordinates import frames\n",
    "path = \"../sot_sp/SOTSP_2010.csv\"\n",
    "sot_sp_df = pd.read_csv(path)\n",
    "# c = Skycoord()\n",
    "s=pd.Series(sot_sp_df.loc[0])\n",
    "ll = [s[\"XCEN\"]-s[\"FOVX\"]//2,s[\"XCEN\"]+s[\"FOVX\"]//2]\n",
    "ur =[s[\"YCEN\"]-s[\"FOVY\"]//2,s[\"YCEN\"]+s[\"FOVY\"]//2]\n",
    "c=SkyCoord(ll*u.arcsec,ur*u.arcsec,frame = frames.Helioprojective,obstime= \"2010-01-01\",observer=\"earth\")\n",
    "c.transform_to(frames.HeliographicStonyhurst)"
   ]
  }
 ]
}
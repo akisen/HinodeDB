{
 "metadata": {
  "language_info": {
   "codemirror_mode": {
    "name": "ipython",
    "version": 3
   },
   "file_extension": ".py",
   "mimetype": "text/x-python",
   "name": "python",
   "nbconvert_exporter": "python",
   "pygments_lexer": "ipython3",
   "version": "3.7.9-final"
  },
  "orig_nbformat": 2,
  "kernelspec": {
   "name": "python_defaultSpec_1601452862180",
   "display_name": "Python 3.7.9 64-bit ('py3.7': conda)",
   "metadata": {
    "interpreter": {
     "hash": "c1adb5375f229d1eea2415024ee773cb2493614d24a9913a0f46472292080f4e"
    }
   }
  }
 },
 "nbformat": 4,
 "nbformat_minor": 2,
 "cells": [
  {
   "cell_type": "markdown",
   "metadata": {},
   "source": [
    "# Convert_Coordinate\n",
    "したいこと  \n",
    "→HinodeのCSVデータの座標系がHelioprojectiveでSHARPデータセットの座標系がHeliographic Stonyhurstなのでこの座標系を統一して変換可能な形にしたい  \n",
    "## 参考\n",
    "[Sunpy-coordinate](https://docs.sunpy.org/en/0.7/code_ref/coordinates.html)"
   ]
  },
  {
   "cell_type": "code",
   "execution_count": 1,
   "metadata": {},
   "outputs": [
    {
     "output_type": "execute_result",
     "data": {
      "text/plain": "<Helioprojective Frame (obstime=2011-06-07T06:33:02.770, rsun=696000000.0 m, observer=<HeliographicStonyhurst Coordinate (obstime=2011-06-07T06:33:02.770): (lon, lat, radius) in (deg, deg, m)\n    (-0.00406308, 0.04787238, 1.51846026e+11)>)>"
     },
     "metadata": {},
     "execution_count": 1
    }
   ],
   "source": [
    "# Example\n",
    "from astropy.wcs.utils import wcs_to_celestial_frame\n",
    "import sunpy.coordinates\n",
    "import sunpy.map\n",
    "from sunpy.data.sample import AIA_171_IMAGE\n",
    "from astropy.coordinates import SkyCoord\n",
    "import astropy.units as u\n",
    "amap = sunpy.map.Map(AIA_171_IMAGE)\n",
    "wcs_to_celestial_frame(amap.wcs)"
   ]
  },
  {
   "cell_type": "markdown",
   "metadata": {},
   "source": [
    "## 座標系変換が一番の肝なのでそこを試してみる\n",
    "Hinode→Helioprojective  \n",
    "SWAN→Heliographic Stonyhurst\n"
   ]
  },
  {
   "cell_type": "code",
   "execution_count": 2,
   "metadata": {},
   "outputs": [
    {
     "output_type": "execute_result",
     "data": {
      "text/plain": "<SkyCoord (HeliographicStonyhurst: obstime=2010-01-01T00:00:00.000): (lon, lat, radius) in (deg, deg, AU)\n    [(17.83207312, -33.35237352, 0.00465047),\n     (37.45921616, -22.3977444 , 0.00465047)]>"
     },
     "metadata": {},
     "execution_count": 2
    }
   ],
   "source": [
    "import pandas as pd\n",
    "from sunpy.coordinates import frames\n",
    "path = \"../sot_sp/SOTSP_2010.csv\"\n",
    "sot_sp_df = pd.read_csv(path)\n",
    "# c = Skycoord()\n",
    "s=pd.Series(sot_sp_df.loc[0])\n",
    "ll = [s[\"XCEN\"]-s[\"FOVX\"]//2,s[\"XCEN\"]+s[\"FOVX\"]//2]\n",
    "ur =[s[\"YCEN\"]-s[\"FOVY\"]//2,s[\"YCEN\"]+s[\"FOVY\"]//2]\n",
    "c=SkyCoord(ll*u.arcsec,ur*u.arcsec,frame = frames.Helioprojective,obstime= \"2010-01-01\",observer=\"earth\")\n",
    "c.transform_to(frames.HeliographicStonyhurst)"
   ]
  },
  {
   "cell_type": "markdown",
   "metadata": {},
   "source": [
    "AstropyのSkyCoordを経由して変換できることが確認できた。"
   ]
  },
  {
   "cell_type": "markdown",
   "metadata": {},
   "source": [
    "## 比較用のそれぞれのデータセットを初期化\n"
   ]
  },
  {
   "cell_type": "code",
   "execution_count": 32,
   "metadata": {},
   "outputs": [
    {
     "output_type": "execute_result",
     "data": {
      "text/plain": "      Unnamed: 0                    SOL_standard fl_goescls  boundbox_c1ll  \\\n1              1  SOL2010-05-01T01:34:00L169C066       C5.7          -82.0   \n4              4  SOL2010-05-01T05:23:00L173C068       B1.6          -76.0   \n5              5  SOL2010-05-01T09:48:00L167C065       B1.0          -79.0   \n7              7  SOL2010-05-02T06:03:00L173C066       B2.9          -62.0   \n9              9  SOL2010-05-02T10:02:00L250C124       B3.8           16.0   \n...          ...                             ...        ...            ...   \n2565        2565  SOL2010-12-17T07:17:00L072C071       B4.9          -17.0   \n2571        2571  SOL2010-12-17T09:02:00L077C071       B2.1          -11.0   \n2573        2573  SOL2010-12-17T11:31:00L008C086       B1.3          -79.0   \n2576        2576  SOL2010-12-17T21:53:00L076C072       B2.4           -5.0   \n2604        2604  SOL2010-12-29T21:04:00L205C117       B4.3          -80.0   \n\n      boundbox_c1ur  boundbox_c2ll  boundbox_c2ur      event_starttime  \\\n1             -80.0           23.0           25.0  2010-05-01T01:34:00   \n4             -74.0           21.0           23.0  2010-05-01T05:23:00   \n5             -77.0           24.0           26.0  2010-05-01T09:48:00   \n7             -60.0           23.0           25.0  2010-05-02T06:03:00   \n9              18.0          -35.0          -33.0  2010-05-02T10:02:00   \n...             ...            ...            ...                  ...   \n2565          -15.0           18.0           20.0  2010-12-17T07:17:00   \n2571           -9.0           18.0           20.0  2010-12-17T09:02:00   \n2573          -77.0            3.0            5.0  2010-12-17T11:31:00   \n2576           -3.0           17.0           19.0  2010-12-17T21:53:00   \n2604          -78.0          -28.0          -26.0  2010-12-29T21:04:00   \n\n            event_endtime search_observatory  \n1     2010-05-01T01:43:00                SDO  \n4     2010-05-01T05:31:00                SDO  \n5     2010-05-01T09:52:00                SDO  \n7     2010-05-02T06:09:00                SDO  \n9     2010-05-02T10:09:00                SDO  \n...                   ...                ...  \n2565  2010-12-17T07:44:00                SDO  \n2571  2010-12-17T09:06:00                SDO  \n2573  2010-12-17T11:37:00                SDO  \n2576  2010-12-17T23:21:00                SDO  \n2604  2010-12-29T21:15:00                SDO  \n\n[818 rows x 10 columns]",
      "text/html": "<div>\n<style scoped>\n    .dataframe tbody tr th:only-of-type {\n        vertical-align: middle;\n    }\n\n    .dataframe tbody tr th {\n        vertical-align: top;\n    }\n\n    .dataframe thead th {\n        text-align: right;\n    }\n</style>\n<table border=\"1\" class=\"dataframe\">\n  <thead>\n    <tr style=\"text-align: right;\">\n      <th></th>\n      <th>Unnamed: 0</th>\n      <th>SOL_standard</th>\n      <th>fl_goescls</th>\n      <th>boundbox_c1ll</th>\n      <th>boundbox_c1ur</th>\n      <th>boundbox_c2ll</th>\n      <th>boundbox_c2ur</th>\n      <th>event_starttime</th>\n      <th>event_endtime</th>\n      <th>search_observatory</th>\n    </tr>\n  </thead>\n  <tbody>\n    <tr>\n      <th>1</th>\n      <td>1</td>\n      <td>SOL2010-05-01T01:34:00L169C066</td>\n      <td>C5.7</td>\n      <td>-82.0</td>\n      <td>-80.0</td>\n      <td>23.0</td>\n      <td>25.0</td>\n      <td>2010-05-01T01:34:00</td>\n      <td>2010-05-01T01:43:00</td>\n      <td>SDO</td>\n    </tr>\n    <tr>\n      <th>4</th>\n      <td>4</td>\n      <td>SOL2010-05-01T05:23:00L173C068</td>\n      <td>B1.6</td>\n      <td>-76.0</td>\n      <td>-74.0</td>\n      <td>21.0</td>\n      <td>23.0</td>\n      <td>2010-05-01T05:23:00</td>\n      <td>2010-05-01T05:31:00</td>\n      <td>SDO</td>\n    </tr>\n    <tr>\n      <th>5</th>\n      <td>5</td>\n      <td>SOL2010-05-01T09:48:00L167C065</td>\n      <td>B1.0</td>\n      <td>-79.0</td>\n      <td>-77.0</td>\n      <td>24.0</td>\n      <td>26.0</td>\n      <td>2010-05-01T09:48:00</td>\n      <td>2010-05-01T09:52:00</td>\n      <td>SDO</td>\n    </tr>\n    <tr>\n      <th>7</th>\n      <td>7</td>\n      <td>SOL2010-05-02T06:03:00L173C066</td>\n      <td>B2.9</td>\n      <td>-62.0</td>\n      <td>-60.0</td>\n      <td>23.0</td>\n      <td>25.0</td>\n      <td>2010-05-02T06:03:00</td>\n      <td>2010-05-02T06:09:00</td>\n      <td>SDO</td>\n    </tr>\n    <tr>\n      <th>9</th>\n      <td>9</td>\n      <td>SOL2010-05-02T10:02:00L250C124</td>\n      <td>B3.8</td>\n      <td>16.0</td>\n      <td>18.0</td>\n      <td>-35.0</td>\n      <td>-33.0</td>\n      <td>2010-05-02T10:02:00</td>\n      <td>2010-05-02T10:09:00</td>\n      <td>SDO</td>\n    </tr>\n    <tr>\n      <th>...</th>\n      <td>...</td>\n      <td>...</td>\n      <td>...</td>\n      <td>...</td>\n      <td>...</td>\n      <td>...</td>\n      <td>...</td>\n      <td>...</td>\n      <td>...</td>\n      <td>...</td>\n    </tr>\n    <tr>\n      <th>2565</th>\n      <td>2565</td>\n      <td>SOL2010-12-17T07:17:00L072C071</td>\n      <td>B4.9</td>\n      <td>-17.0</td>\n      <td>-15.0</td>\n      <td>18.0</td>\n      <td>20.0</td>\n      <td>2010-12-17T07:17:00</td>\n      <td>2010-12-17T07:44:00</td>\n      <td>SDO</td>\n    </tr>\n    <tr>\n      <th>2571</th>\n      <td>2571</td>\n      <td>SOL2010-12-17T09:02:00L077C071</td>\n      <td>B2.1</td>\n      <td>-11.0</td>\n      <td>-9.0</td>\n      <td>18.0</td>\n      <td>20.0</td>\n      <td>2010-12-17T09:02:00</td>\n      <td>2010-12-17T09:06:00</td>\n      <td>SDO</td>\n    </tr>\n    <tr>\n      <th>2573</th>\n      <td>2573</td>\n      <td>SOL2010-12-17T11:31:00L008C086</td>\n      <td>B1.3</td>\n      <td>-79.0</td>\n      <td>-77.0</td>\n      <td>3.0</td>\n      <td>5.0</td>\n      <td>2010-12-17T11:31:00</td>\n      <td>2010-12-17T11:37:00</td>\n      <td>SDO</td>\n    </tr>\n    <tr>\n      <th>2576</th>\n      <td>2576</td>\n      <td>SOL2010-12-17T21:53:00L076C072</td>\n      <td>B2.4</td>\n      <td>-5.0</td>\n      <td>-3.0</td>\n      <td>17.0</td>\n      <td>19.0</td>\n      <td>2010-12-17T21:53:00</td>\n      <td>2010-12-17T23:21:00</td>\n      <td>SDO</td>\n    </tr>\n    <tr>\n      <th>2604</th>\n      <td>2604</td>\n      <td>SOL2010-12-29T21:04:00L205C117</td>\n      <td>B4.3</td>\n      <td>-80.0</td>\n      <td>-78.0</td>\n      <td>-28.0</td>\n      <td>-26.0</td>\n      <td>2010-12-29T21:04:00</td>\n      <td>2010-12-29T21:15:00</td>\n      <td>SDO</td>\n    </tr>\n  </tbody>\n</table>\n<p>818 rows × 10 columns</p>\n</div>"
     },
     "metadata": {},
     "execution_count": 32
    }
   ],
   "source": [
    "import glob\n",
    "YEARS = [2010+i for i in range(10)]\n",
    "SOT_SP_PATH = \"../sot_sp/SOTSP_*.csv\"\n",
    "SOT_FG_PATH = \"../sot_fg/SOTFG_*.csv\"\n",
    "EIS_PATH = \"../eis/EIS_*.csv\"\n",
    "XRT_PATH = \"../xrt/XRT_*.csv\"\n",
    "FLARE_PATH = \"../flare/Flare2010.csv\"\n",
    "def path_to_dic(path_str):\n",
    "    paths = sorted(glob.glob(path_str))\n",
    "    paths_dic = {path.split(\"/\")[-1][-8:-4]:path for path in paths}\n",
    "    return paths_dic\n",
    "def read_flare_csv(path_str):\n",
    "    flare_df = pd.read_csv(FLARE_PATH)\n",
    "    flare_df = flare_df.query('search_observatory==\"SDO\"')\n",
    "    flare_df = flare_df.dropna(subset=[\"fl_goescls\"])\n",
    "    return flare_df\n",
    "sot_sp_paths_dic = path_to_dic(SOT_SP_PATH)#各年度でPathを格納した辞書を作成\n",
    "sot_fg_paths_dic = path_to_dic(SOT_FG_PATH)\n",
    "eis_paths_dic = path_to_dic(EIS_PATH)\n",
    "xrt_path_dic =path_to_dic(XRT_PATH)\n",
    "flare_df = read_flare_csv(FLARE_PATH)\n",
    "\n",
    "flare_df"
   ]
  },
  {
   "cell_type": "code",
   "execution_count": 41,
   "metadata": {
    "tags": []
   },
   "outputs": [
    {
     "output_type": "execute_result",
     "data": {
      "text/plain": "                                                 FILEPATH      DATE_OBS  \\\n0       hinode/sot/level0/2010/01/01/FGMG/H0000/FGMG4_...  3.156193e+08   \n1       hinode/sot/level0/2010/01/01/FG/H0000/FG201001...  3.156195e+08   \n2       hinode/sot/level0/2010/01/01/FGMG/H0000/FGMG4_...  3.156195e+08   \n3       hinode/sot/level0/2010/01/01/FG/H0000/FG201001...  3.156196e+08   \n4       hinode/sot/level0/2010/01/01/FGMG/H0000/FGMG4_...  3.156196e+08   \n...                                                   ...           ...   \n497719  hinode/sot/level0/2010/12/31/FGMG/H2300/FGMG4_...  3.471548e+08   \n497720  hinode/sot/level0/2010/12/31/FG/H2300/FG201012...  3.471550e+08   \n497721  hinode/sot/level0/2010/12/31/FGMG/H2300/FGMG4_...  3.471550e+08   \n497722  hinode/sot/level0/2010/12/31/FG/H2300/FG201012...  3.471551e+08   \n497723  hinode/sot/level0/2010/12/31/FGMG/H2300/FGMG4_...  3.471552e+08   \n\n            DATE_END     XCEN     YCEN     FOVX     FOVY BFlare  \n0       3.156193e+08  308.990 -414.820  225.280  112.640     []  \n1       3.156195e+08  309.454 -414.742  188.283  111.575     []  \n2       3.156195e+08  309.454 -414.897  225.280  112.640     []  \n3       3.156196e+08  309.763 -414.974  188.283  111.575     []  \n4       3.156197e+08  309.840 -414.742  225.280  112.640     []  \n...              ...      ...      ...      ...      ...    ...  \n497719  3.471548e+08 -660.544 -401.379  225.280  112.640     []  \n497720  3.471550e+08 -660.390 -401.224  188.283  111.575     []  \n497721  3.471550e+08 -660.313 -401.301  225.280  112.640     []  \n497722  3.471552e+08 -660.158 -401.224  188.283  111.575     []  \n497723  3.471552e+08 -660.081 -401.379  225.280  112.640     []  \n\n[497724 rows x 8 columns]",
      "text/html": "<div>\n<style scoped>\n    .dataframe tbody tr th:only-of-type {\n        vertical-align: middle;\n    }\n\n    .dataframe tbody tr th {\n        vertical-align: top;\n    }\n\n    .dataframe thead th {\n        text-align: right;\n    }\n</style>\n<table border=\"1\" class=\"dataframe\">\n  <thead>\n    <tr style=\"text-align: right;\">\n      <th></th>\n      <th>FILEPATH</th>\n      <th>DATE_OBS</th>\n      <th>DATE_END</th>\n      <th>XCEN</th>\n      <th>YCEN</th>\n      <th>FOVX</th>\n      <th>FOVY</th>\n      <th>BFlare</th>\n    </tr>\n  </thead>\n  <tbody>\n    <tr>\n      <th>0</th>\n      <td>hinode/sot/level0/2010/01/01/FGMG/H0000/FGMG4_...</td>\n      <td>3.156193e+08</td>\n      <td>3.156193e+08</td>\n      <td>308.990</td>\n      <td>-414.820</td>\n      <td>225.280</td>\n      <td>112.640</td>\n      <td>[]</td>\n    </tr>\n    <tr>\n      <th>1</th>\n      <td>hinode/sot/level0/2010/01/01/FG/H0000/FG201001...</td>\n      <td>3.156195e+08</td>\n      <td>3.156195e+08</td>\n      <td>309.454</td>\n      <td>-414.742</td>\n      <td>188.283</td>\n      <td>111.575</td>\n      <td>[]</td>\n    </tr>\n    <tr>\n      <th>2</th>\n      <td>hinode/sot/level0/2010/01/01/FGMG/H0000/FGMG4_...</td>\n      <td>3.156195e+08</td>\n      <td>3.156195e+08</td>\n      <td>309.454</td>\n      <td>-414.897</td>\n      <td>225.280</td>\n      <td>112.640</td>\n      <td>[]</td>\n    </tr>\n    <tr>\n      <th>3</th>\n      <td>hinode/sot/level0/2010/01/01/FG/H0000/FG201001...</td>\n      <td>3.156196e+08</td>\n      <td>3.156196e+08</td>\n      <td>309.763</td>\n      <td>-414.974</td>\n      <td>188.283</td>\n      <td>111.575</td>\n      <td>[]</td>\n    </tr>\n    <tr>\n      <th>4</th>\n      <td>hinode/sot/level0/2010/01/01/FGMG/H0000/FGMG4_...</td>\n      <td>3.156196e+08</td>\n      <td>3.156197e+08</td>\n      <td>309.840</td>\n      <td>-414.742</td>\n      <td>225.280</td>\n      <td>112.640</td>\n      <td>[]</td>\n    </tr>\n    <tr>\n      <th>...</th>\n      <td>...</td>\n      <td>...</td>\n      <td>...</td>\n      <td>...</td>\n      <td>...</td>\n      <td>...</td>\n      <td>...</td>\n      <td>...</td>\n    </tr>\n    <tr>\n      <th>497719</th>\n      <td>hinode/sot/level0/2010/12/31/FGMG/H2300/FGMG4_...</td>\n      <td>3.471548e+08</td>\n      <td>3.471548e+08</td>\n      <td>-660.544</td>\n      <td>-401.379</td>\n      <td>225.280</td>\n      <td>112.640</td>\n      <td>[]</td>\n    </tr>\n    <tr>\n      <th>497720</th>\n      <td>hinode/sot/level0/2010/12/31/FG/H2300/FG201012...</td>\n      <td>3.471550e+08</td>\n      <td>3.471550e+08</td>\n      <td>-660.390</td>\n      <td>-401.224</td>\n      <td>188.283</td>\n      <td>111.575</td>\n      <td>[]</td>\n    </tr>\n    <tr>\n      <th>497721</th>\n      <td>hinode/sot/level0/2010/12/31/FGMG/H2300/FGMG4_...</td>\n      <td>3.471550e+08</td>\n      <td>3.471550e+08</td>\n      <td>-660.313</td>\n      <td>-401.301</td>\n      <td>225.280</td>\n      <td>112.640</td>\n      <td>[]</td>\n    </tr>\n    <tr>\n      <th>497722</th>\n      <td>hinode/sot/level0/2010/12/31/FG/H2300/FG201012...</td>\n      <td>3.471551e+08</td>\n      <td>3.471552e+08</td>\n      <td>-660.158</td>\n      <td>-401.224</td>\n      <td>188.283</td>\n      <td>111.575</td>\n      <td>[]</td>\n    </tr>\n    <tr>\n      <th>497723</th>\n      <td>hinode/sot/level0/2010/12/31/FGMG/H2300/FGMG4_...</td>\n      <td>3.471552e+08</td>\n      <td>3.471552e+08</td>\n      <td>-660.081</td>\n      <td>-401.379</td>\n      <td>225.280</td>\n      <td>112.640</td>\n      <td>[]</td>\n    </tr>\n  </tbody>\n</table>\n<p>497724 rows × 8 columns</p>\n</div>"
     },
     "metadata": {},
     "execution_count": 41
    }
   ],
   "source": [
    "sot_fg_2010 = pd.read_csv(sot_fg_paths_dic[\"2010\"])\n",
    "sot_fg_2010[\"BFlare\"] = [ [] for i in range(len(sot_fg_2010))]\n",
    "sot_fg_2010"
   ]
  },
  {
   "cell_type": "code",
   "execution_count": null,
   "metadata": {},
   "outputs": [],
   "source": []
  }
 ]
}